{
 "cells": [
  {
   "cell_type": "markdown",
   "id": "066ef088",
   "metadata": {},
   "source": [
    "# Multicolinearity\n",
    "* Correlation or multiple correlation of sufficient magnitude to have a potential to adversely affect regression estimates.\n",
    "* Moderate to high intercorrelation among independent variables. \n",
    "\n",
    "\n",
    "\n",
    "#### When we have multiple input variables, we need to check if there is high correlation betwee the input variable. Any input variable which have a high correlation can be used in the model together. We need to drop one of them as the input variable from our model.\n",
    "#### As the correlation coefficient value can not be defined as as how hogh it has to be to classify as a high multicollinearity, thus we need to find varience inflation factor (VIF) for each input variable."
   ]
  },
  {
   "cell_type": "markdown",
   "id": "12d45c89",
   "metadata": {},
   "source": [
    "# VIF\n",
    "* Use to find out the corelation amongh input variable\n",
    "\n",
    "* If VIF is \n",
    "            1      => the input variables are not correlated/ completely independend of input variable\n",
    "            \n",
    "            1 to 5 => independent variables are moderately correlated. We can still use in the model.\n",
    "            \n",
    "            >5     => independent variables are highly correlated. \n",
    "            \n",
    "         "
   ]
  },
  {
   "cell_type": "code",
   "execution_count": null,
   "id": "a5a838c5",
   "metadata": {},
   "outputs": [],
   "source": []
  }
 ],
 "metadata": {
  "kernelspec": {
   "display_name": "Python 3 (ipykernel)",
   "language": "python",
   "name": "python3"
  },
  "language_info": {
   "codemirror_mode": {
    "name": "ipython",
    "version": 3
   },
   "file_extension": ".py",
   "mimetype": "text/x-python",
   "name": "python",
   "nbconvert_exporter": "python",
   "pygments_lexer": "ipython3",
   "version": "3.9.7"
  }
 },
 "nbformat": 4,
 "nbformat_minor": 5
}
