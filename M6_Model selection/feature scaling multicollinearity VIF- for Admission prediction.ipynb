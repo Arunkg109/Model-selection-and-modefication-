{
 "cells": [
  {
   "cell_type": "markdown",
   "id": "a83328b8",
   "metadata": {},
   "source": [
    "## Agenda\n",
    "* concept of Feature Scalling \n",
    "* How to use feature scalling to reduce the model errors\n",
    "* Multicollinearity & Implimentation of multicollinearity in Python \n",
    "* Case study to apply these concept"
   ]
  },
  {
   "cell_type": "markdown",
   "id": "40c8277c",
   "metadata": {},
   "source": [
    "### Scaling in data: \n",
    "           # When we have a model which is build on multiple input variable, the scale of the variable may differ. some of the input variable may have high scale values where as some input variables may low scale values. \n",
    "           # The concept of scaling means removing the measurement scale from the input variable using various method.\n",
    "           # After scaling the data, the variable are unit-less. There are two methods of scaling:\n",
    "           \n",
    "#1) MinMax scaling: \n",
    "    * We take each data point of each column and then substract it from the min value of that column. The output is then divided by the difference between the minimun and the maximun value of that column. Thus after prforming this scaling method, all the values of the column will be between 0 and 1\n",
    "   * The formula for this \n",
    "        (x-min(y))/(max(y)-min(y)    where x is data poing of the column and y is min or max value of the column.\n",
    "        \n",
    "#2) Standard scaling (z score scaling):\n",
    "    * Here we take each data point from a column and minus it from the column. The outpur is then divided by the std. divation of the column. Thus after performing this scaling the output can have the values anywhere between -infinity to +infinity. However the std diviation of the resultant sata eill be always 1 and avarage od resultant data will always be 0. \n",
    "   * x - avg(y)/std(y)      ; where x is the specific data point of hte column and y is the avarege of SD of that column.\n",
    "    \n",
    "    \n",
    "#### NOTE: Please do not assume that standard sccaling will bring your data into normal disctribution. This scaling method does not impact the skewness of your data. "
   ]
  },
  {
   "cell_type": "markdown",
   "id": "fddd35a1",
   "metadata": {},
   "source": [
    "## ps : Let's see the impact on the model: Using admission predict data, build multiple linear regression model with scaling. Find R-sq, RMSE of the model.\n",
    "\n",
    "    Then we will perform the scaling of the data and re-build another model. Again we will find the R-sq, RMSE value for the new model. Then we will compare these values.\n",
    "    \n",
    "    # target column = chances of getting admission"
   ]
  },
  {
   "cell_type": "code",
   "execution_count": 1,
   "id": "155eb645",
   "metadata": {},
   "outputs": [],
   "source": [
    "import pandas as pd\n",
    "from sklearn.linear_model import LinearRegression \n",
    "from sklearn.model_selection import train_test_split"
   ]
  },
  {
   "cell_type": "code",
   "execution_count": 2,
   "id": "2d2c48f9",
   "metadata": {},
   "outputs": [
    {
     "data": {
      "text/plain": [
       "Index(['Serial No.', 'GRE Score', 'TOEFL Score', 'University Rating', 'SOP',\n",
       "       'LOR ', 'CGPA', 'Research', 'Chance of Admit '],\n",
       "      dtype='object')"
      ]
     },
     "execution_count": 2,
     "metadata": {},
     "output_type": "execute_result"
    }
   ],
   "source": [
    "df = pd.read_csv('F:\\Skillenable\\Data frames\\Admission_Predict.csv')\n",
    "df.head()\n",
    "df.columns"
   ]
  },
  {
   "cell_type": "code",
   "execution_count": 3,
   "id": "6661b082",
   "metadata": {},
   "outputs": [
    {
     "data": {
      "text/html": [
       "<div>\n",
       "<style scoped>\n",
       "    .dataframe tbody tr th:only-of-type {\n",
       "        vertical-align: middle;\n",
       "    }\n",
       "\n",
       "    .dataframe tbody tr th {\n",
       "        vertical-align: top;\n",
       "    }\n",
       "\n",
       "    .dataframe thead th {\n",
       "        text-align: right;\n",
       "    }\n",
       "</style>\n",
       "<table border=\"1\" class=\"dataframe\">\n",
       "  <thead>\n",
       "    <tr style=\"text-align: right;\">\n",
       "      <th></th>\n",
       "      <th>GRE Score</th>\n",
       "      <th>TOEFL Score</th>\n",
       "      <th>University Rating</th>\n",
       "      <th>SOP</th>\n",
       "      <th>LOR</th>\n",
       "      <th>CGPA</th>\n",
       "      <th>Research</th>\n",
       "      <th>Chance of Admit</th>\n",
       "    </tr>\n",
       "  </thead>\n",
       "  <tbody>\n",
       "    <tr>\n",
       "      <th>0</th>\n",
       "      <td>337</td>\n",
       "      <td>118</td>\n",
       "      <td>4</td>\n",
       "      <td>4.5</td>\n",
       "      <td>4.5</td>\n",
       "      <td>9.65</td>\n",
       "      <td>1</td>\n",
       "      <td>0.92</td>\n",
       "    </tr>\n",
       "    <tr>\n",
       "      <th>1</th>\n",
       "      <td>324</td>\n",
       "      <td>107</td>\n",
       "      <td>4</td>\n",
       "      <td>4.0</td>\n",
       "      <td>4.5</td>\n",
       "      <td>8.87</td>\n",
       "      <td>1</td>\n",
       "      <td>0.76</td>\n",
       "    </tr>\n",
       "    <tr>\n",
       "      <th>2</th>\n",
       "      <td>316</td>\n",
       "      <td>104</td>\n",
       "      <td>3</td>\n",
       "      <td>3.0</td>\n",
       "      <td>3.5</td>\n",
       "      <td>8.00</td>\n",
       "      <td>1</td>\n",
       "      <td>0.72</td>\n",
       "    </tr>\n",
       "    <tr>\n",
       "      <th>3</th>\n",
       "      <td>322</td>\n",
       "      <td>110</td>\n",
       "      <td>3</td>\n",
       "      <td>3.5</td>\n",
       "      <td>2.5</td>\n",
       "      <td>8.67</td>\n",
       "      <td>1</td>\n",
       "      <td>0.80</td>\n",
       "    </tr>\n",
       "    <tr>\n",
       "      <th>4</th>\n",
       "      <td>314</td>\n",
       "      <td>103</td>\n",
       "      <td>2</td>\n",
       "      <td>2.0</td>\n",
       "      <td>3.0</td>\n",
       "      <td>8.21</td>\n",
       "      <td>0</td>\n",
       "      <td>0.65</td>\n",
       "    </tr>\n",
       "  </tbody>\n",
       "</table>\n",
       "</div>"
      ],
      "text/plain": [
       "   GRE Score  TOEFL Score  University Rating  SOP  LOR   CGPA  Research  \\\n",
       "0        337          118                  4  4.5   4.5  9.65         1   \n",
       "1        324          107                  4  4.0   4.5  8.87         1   \n",
       "2        316          104                  3  3.0   3.5  8.00         1   \n",
       "3        322          110                  3  3.5   2.5  8.67         1   \n",
       "4        314          103                  2  2.0   3.0  8.21         0   \n",
       "\n",
       "   Chance of Admit   \n",
       "0              0.92  \n",
       "1              0.76  \n",
       "2              0.72  \n",
       "3              0.80  \n",
       "4              0.65  "
      ]
     },
     "execution_count": 3,
     "metadata": {},
     "output_type": "execute_result"
    }
   ],
   "source": [
    "df_new = df.drop(columns=['Serial No.'])\n",
    "df_new.head()"
   ]
  },
  {
   "cell_type": "code",
   "execution_count": 4,
   "id": "be1cf6d4",
   "metadata": {},
   "outputs": [],
   "source": [
    "# split test and train data\n",
    "\n",
    "Y = df_new[['Chance of Admit ']]\n",
    "X = df_new.drop(columns='Chance of Admit ')"
   ]
  },
  {
   "cell_type": "code",
   "execution_count": 5,
   "id": "7712f1c4",
   "metadata": {},
   "outputs": [
    {
     "name": "stdout",
     "output_type": "stream",
     "text": [
      "The R_sq value of original model:  0.8008778\n"
     ]
    }
   ],
   "source": [
    "# spliting data into training and test\n",
    "\n",
    "X_train, X_test, Y_train, Y_test = train_test_split(X,Y, train_size = 0.8, random_state = 1)\n",
    "\n",
    "len(X_train), len(X_test), len(Y_train), len(Y_test) \n",
    "\n",
    "# bulding model\n",
    "lm = LinearRegression()\n",
    "\n",
    "# fit data in model\n",
    "model = lm.fit(X_train, Y_train)\n",
    "\n",
    "#Fiding R sq value\n",
    "r_sq = model.score(X_train, Y_train)\n",
    "print('The R_sq value of original model: ', round(r_sq, 7))"
   ]
  },
  {
   "cell_type": "code",
   "execution_count": 6,
   "id": "fcef6b09",
   "metadata": {},
   "outputs": [
    {
     "name": "stdout",
     "output_type": "stream",
     "text": [
      "THe RMSE of original model:  0.06665342999422268\n"
     ]
    },
    {
     "name": "stderr",
     "output_type": "stream",
     "text": [
      "C:\\Users\\arun\\AppData\\Local\\Temp/ipykernel_16132/2080778270.py:2: SettingWithCopyWarning: \n",
      "A value is trying to be set on a copy of a slice from a DataFrame.\n",
      "Try using .loc[row_indexer,col_indexer] = value instead\n",
      "\n",
      "See the caveats in the documentation: https://pandas.pydata.org/pandas-docs/stable/user_guide/indexing.html#returning-a-view-versus-a-copy\n",
      "  Y_test['Pred_Admit'] = model.predict(X_test)\n",
      "C:\\Users\\arun\\AppData\\Local\\Temp/ipykernel_16132/2080778270.py:5: SettingWithCopyWarning: \n",
      "A value is trying to be set on a copy of a slice from a DataFrame.\n",
      "Try using .loc[row_indexer,col_indexer] = value instead\n",
      "\n",
      "See the caveats in the documentation: https://pandas.pydata.org/pandas-docs/stable/user_guide/indexing.html#returning-a-view-versus-a-copy\n",
      "  Y_test['SqError'] = (Y_test['Chance of Admit ']- Y_test['Pred_Admit']) ** 2\n"
     ]
    }
   ],
   "source": [
    "# calculate RMSE value for original model\n",
    "Y_test['Pred_Admit'] = model.predict(X_test)\n",
    "\n",
    "# find the square error\n",
    "Y_test['SqError'] = (Y_test['Chance of Admit ']- Y_test['Pred_Admit']) ** 2\n",
    "\n",
    "# find mean of squared error\n",
    "mean_error = Y_test['SqError'].mean()\n",
    "\n",
    "# Find square root of mean_error\n",
    "import math\n",
    "\n",
    "RMSE_original = math.sqrt(mean_error)\n",
    "print('THe RMSE of original model: ', RMSE_original)"
   ]
  },
  {
   "cell_type": "code",
   "execution_count": 7,
   "id": "4c74e9e3",
   "metadata": {},
   "outputs": [],
   "source": [
    "# import scaler functio\n",
    "\n",
    "from sklearn.preprocessing import StandardScaler, MinMaxScaler\n",
    "\n",
    "# STEP 1: Create the blank scaling object\n",
    "sc = StandardScaler()\n",
    "\n",
    "# STEP 2: Apply this object on input variable data frame (X)\n",
    "\n",
    "sc.fit(X)\n",
    "\n",
    "# Transform the data using transform function\n",
    "X_new = sc.transform(X)"
   ]
  },
  {
   "cell_type": "code",
   "execution_count": 8,
   "id": "4cac3c3e",
   "metadata": {},
   "outputs": [
    {
     "data": {
      "text/plain": [
       "array([[ 1.76210664,  1.74697064,  0.79882862, ...,  1.16732114,\n",
       "         1.76481828,  0.90911166],\n",
       "       [ 0.62765641, -0.06763531,  0.79882862, ...,  1.16732114,\n",
       "         0.45515126,  0.90911166],\n",
       "       [-0.07046681, -0.56252785, -0.07660001, ...,  0.05293342,\n",
       "        -1.00563118,  0.90911166],\n",
       "       ...,\n",
       "       [ 1.15124883,  1.41704229,  0.79882862, ...,  1.16732114,\n",
       "         1.42900622,  0.90911166],\n",
       "       [-0.41952842, -0.72749202, -0.07660001, ...,  0.61012728,\n",
       "         0.30403584, -1.09997489],\n",
       "       [ 1.41304503,  1.58200646,  0.79882862, ...,  0.61012728,\n",
       "         1.78160888,  0.90911166]])"
      ]
     },
     "execution_count": 8,
     "metadata": {},
     "output_type": "execute_result"
    }
   ],
   "source": [
    "X_new"
   ]
  },
  {
   "cell_type": "code",
   "execution_count": 9,
   "id": "55860643",
   "metadata": {},
   "outputs": [
    {
     "data": {
      "text/plain": [
       "numpy.ndarray"
      ]
     },
     "execution_count": 9,
     "metadata": {},
     "output_type": "execute_result"
    }
   ],
   "source": [
    "type(X_new)\n"
   ]
  },
  {
   "cell_type": "code",
   "execution_count": 10,
   "id": "40309de6",
   "metadata": {},
   "outputs": [
    {
     "data": {
      "text/plain": [
       "pandas.core.frame.DataFrame"
      ]
     },
     "execution_count": 10,
     "metadata": {},
     "output_type": "execute_result"
    }
   ],
   "source": [
    "type(Y)"
   ]
  },
  {
   "cell_type": "code",
   "execution_count": 11,
   "id": "33de0aa3",
   "metadata": {},
   "outputs": [
    {
     "data": {
      "text/html": [
       "<div>\n",
       "<style scoped>\n",
       "    .dataframe tbody tr th:only-of-type {\n",
       "        vertical-align: middle;\n",
       "    }\n",
       "\n",
       "    .dataframe tbody tr th {\n",
       "        vertical-align: top;\n",
       "    }\n",
       "\n",
       "    .dataframe thead th {\n",
       "        text-align: right;\n",
       "    }\n",
       "</style>\n",
       "<table border=\"1\" class=\"dataframe\">\n",
       "  <thead>\n",
       "    <tr style=\"text-align: right;\">\n",
       "      <th></th>\n",
       "      <th>GRE Score</th>\n",
       "      <th>TOEFL Score</th>\n",
       "      <th>University Rating</th>\n",
       "      <th>SOP</th>\n",
       "      <th>LOR</th>\n",
       "      <th>CGPA</th>\n",
       "      <th>Research</th>\n",
       "    </tr>\n",
       "  </thead>\n",
       "  <tbody>\n",
       "    <tr>\n",
       "      <th>0</th>\n",
       "      <td>1.762107</td>\n",
       "      <td>1.746971</td>\n",
       "      <td>0.798829</td>\n",
       "      <td>1.093864</td>\n",
       "      <td>1.167321</td>\n",
       "      <td>1.764818</td>\n",
       "      <td>0.909112</td>\n",
       "    </tr>\n",
       "    <tr>\n",
       "      <th>1</th>\n",
       "      <td>0.627656</td>\n",
       "      <td>-0.067635</td>\n",
       "      <td>0.798829</td>\n",
       "      <td>0.596653</td>\n",
       "      <td>1.167321</td>\n",
       "      <td>0.455151</td>\n",
       "      <td>0.909112</td>\n",
       "    </tr>\n",
       "    <tr>\n",
       "      <th>2</th>\n",
       "      <td>-0.070467</td>\n",
       "      <td>-0.562528</td>\n",
       "      <td>-0.076600</td>\n",
       "      <td>-0.397769</td>\n",
       "      <td>0.052933</td>\n",
       "      <td>-1.005631</td>\n",
       "      <td>0.909112</td>\n",
       "    </tr>\n",
       "    <tr>\n",
       "      <th>3</th>\n",
       "      <td>0.453126</td>\n",
       "      <td>0.427257</td>\n",
       "      <td>-0.076600</td>\n",
       "      <td>0.099442</td>\n",
       "      <td>-1.061454</td>\n",
       "      <td>0.119339</td>\n",
       "      <td>0.909112</td>\n",
       "    </tr>\n",
       "    <tr>\n",
       "      <th>4</th>\n",
       "      <td>-0.244998</td>\n",
       "      <td>-0.727492</td>\n",
       "      <td>-0.952029</td>\n",
       "      <td>-1.392191</td>\n",
       "      <td>-0.504260</td>\n",
       "      <td>-0.653029</td>\n",
       "      <td>-1.099975</td>\n",
       "    </tr>\n",
       "    <tr>\n",
       "      <th>...</th>\n",
       "      <td>...</td>\n",
       "      <td>...</td>\n",
       "      <td>...</td>\n",
       "      <td>...</td>\n",
       "      <td>...</td>\n",
       "      <td>...</td>\n",
       "      <td>...</td>\n",
       "    </tr>\n",
       "    <tr>\n",
       "      <th>395</th>\n",
       "      <td>0.627656</td>\n",
       "      <td>0.427257</td>\n",
       "      <td>-0.076600</td>\n",
       "      <td>0.099442</td>\n",
       "      <td>0.052933</td>\n",
       "      <td>0.740592</td>\n",
       "      <td>0.909112</td>\n",
       "    </tr>\n",
       "    <tr>\n",
       "      <th>396</th>\n",
       "      <td>0.714922</td>\n",
       "      <td>-0.067635</td>\n",
       "      <td>-0.076600</td>\n",
       "      <td>-0.397769</td>\n",
       "      <td>0.052933</td>\n",
       "      <td>0.858126</td>\n",
       "      <td>0.909112</td>\n",
       "    </tr>\n",
       "    <tr>\n",
       "      <th>397</th>\n",
       "      <td>1.151249</td>\n",
       "      <td>1.417042</td>\n",
       "      <td>0.798829</td>\n",
       "      <td>1.591075</td>\n",
       "      <td>1.167321</td>\n",
       "      <td>1.429006</td>\n",
       "      <td>0.909112</td>\n",
       "    </tr>\n",
       "    <tr>\n",
       "      <th>398</th>\n",
       "      <td>-0.419528</td>\n",
       "      <td>-0.727492</td>\n",
       "      <td>-0.076600</td>\n",
       "      <td>0.099442</td>\n",
       "      <td>0.610127</td>\n",
       "      <td>0.304036</td>\n",
       "      <td>-1.099975</td>\n",
       "    </tr>\n",
       "    <tr>\n",
       "      <th>399</th>\n",
       "      <td>1.413045</td>\n",
       "      <td>1.582006</td>\n",
       "      <td>0.798829</td>\n",
       "      <td>1.591075</td>\n",
       "      <td>0.610127</td>\n",
       "      <td>1.781609</td>\n",
       "      <td>0.909112</td>\n",
       "    </tr>\n",
       "  </tbody>\n",
       "</table>\n",
       "<p>400 rows × 7 columns</p>\n",
       "</div>"
      ],
      "text/plain": [
       "     GRE Score  TOEFL Score  University Rating       SOP      LOR       CGPA  \\\n",
       "0     1.762107     1.746971           0.798829  1.093864  1.167321  1.764818   \n",
       "1     0.627656    -0.067635           0.798829  0.596653  1.167321  0.455151   \n",
       "2    -0.070467    -0.562528          -0.076600 -0.397769  0.052933 -1.005631   \n",
       "3     0.453126     0.427257          -0.076600  0.099442 -1.061454  0.119339   \n",
       "4    -0.244998    -0.727492          -0.952029 -1.392191 -0.504260 -0.653029   \n",
       "..         ...          ...                ...       ...       ...       ...   \n",
       "395   0.627656     0.427257          -0.076600  0.099442  0.052933  0.740592   \n",
       "396   0.714922    -0.067635          -0.076600 -0.397769  0.052933  0.858126   \n",
       "397   1.151249     1.417042           0.798829  1.591075  1.167321  1.429006   \n",
       "398  -0.419528    -0.727492          -0.076600  0.099442  0.610127  0.304036   \n",
       "399   1.413045     1.582006           0.798829  1.591075  0.610127  1.781609   \n",
       "\n",
       "     Research  \n",
       "0    0.909112  \n",
       "1    0.909112  \n",
       "2    0.909112  \n",
       "3    0.909112  \n",
       "4   -1.099975  \n",
       "..        ...  \n",
       "395  0.909112  \n",
       "396  0.909112  \n",
       "397  0.909112  \n",
       "398 -1.099975  \n",
       "399  0.909112  \n",
       "\n",
       "[400 rows x 7 columns]"
      ]
     },
     "execution_count": 11,
     "metadata": {},
     "output_type": "execute_result"
    }
   ],
   "source": [
    "# as the output of scaling transformation in a numpy array and the target variable Y is a data frame we need \n",
    "# to either convert the transformed input variable onto a data frame or the target variable into a array \n",
    "\n",
    "# Let's convet the X_new into pandas data frame \n",
    "\n",
    "X_new_df = pd.DataFrame(X_new, columns=X.columns)\n",
    "X_new_df"
   ]
  },
  {
   "cell_type": "code",
   "execution_count": 12,
   "id": "3e4abc07",
   "metadata": {},
   "outputs": [
    {
     "name": "stdout",
     "output_type": "stream",
     "text": [
      "The R_sq value of scaled model:  0.8121107\n"
     ]
    }
   ],
   "source": [
    "# Let's split data into training and test and create a new regrassion model\n",
    "\n",
    "X_train1, X_test1, Y_train1, Y_test1 = train_test_split(X_new_df,Y, train_size = 0.8, random_state = 1234)\n",
    "\n",
    "# bulding model\n",
    "lm1 = LinearRegression()\n",
    "\n",
    "# fit data in model\n",
    "model1 = lm1.fit(X_train1, Y_train1)\n",
    "\n",
    "#Fiding R sq value\n",
    "r_sq1 = model1.score(X_train1, Y_train1)\n",
    "print('The R_sq value of scaled model: ', round(r_sq1, 7))"
   ]
  },
  {
   "cell_type": "code",
   "execution_count": 13,
   "id": "e9167f4d",
   "metadata": {},
   "outputs": [
    {
     "name": "stdout",
     "output_type": "stream",
     "text": [
      "THe RMSE of scaled model:  0.06935847086578059\n"
     ]
    },
    {
     "name": "stderr",
     "output_type": "stream",
     "text": [
      "C:\\Users\\arun\\AppData\\Local\\Temp/ipykernel_16132/744854545.py:2: SettingWithCopyWarning: \n",
      "A value is trying to be set on a copy of a slice from a DataFrame.\n",
      "Try using .loc[row_indexer,col_indexer] = value instead\n",
      "\n",
      "See the caveats in the documentation: https://pandas.pydata.org/pandas-docs/stable/user_guide/indexing.html#returning-a-view-versus-a-copy\n",
      "  Y_test1['Pred_Admit_scaled'] = model1.predict(X_test1)\n",
      "C:\\Users\\arun\\AppData\\Local\\Temp/ipykernel_16132/744854545.py:5: SettingWithCopyWarning: \n",
      "A value is trying to be set on a copy of a slice from a DataFrame.\n",
      "Try using .loc[row_indexer,col_indexer] = value instead\n",
      "\n",
      "See the caveats in the documentation: https://pandas.pydata.org/pandas-docs/stable/user_guide/indexing.html#returning-a-view-versus-a-copy\n",
      "  Y_test1['SqError1'] = (Y_test1['Chance of Admit ']- Y_test1['Pred_Admit_scaled']) ** 2\n"
     ]
    }
   ],
   "source": [
    "# calculate RMSE value for scaled model\n",
    "Y_test1['Pred_Admit_scaled'] = model1.predict(X_test1)\n",
    "\n",
    "# find the square error\n",
    "Y_test1['SqError1'] = (Y_test1['Chance of Admit ']- Y_test1['Pred_Admit_scaled']) ** 2\n",
    "\n",
    "# find mean of squared error\n",
    "mean_error1 = Y_test1['SqError1'].mean()\n",
    "\n",
    "# Find square root of mean_error\n",
    "import math\n",
    "\n",
    "RMSE_scaled = math.sqrt(mean_error1)\n",
    "print('THe RMSE of scaled model: ', RMSE_scaled)"
   ]
  },
  {
   "cell_type": "code",
   "execution_count": 14,
   "id": "87bb520f",
   "metadata": {},
   "outputs": [
    {
     "name": "stdout",
     "output_type": "stream",
     "text": [
      "THe RMSE of original model:  0.06665342999422268\n",
      "THe RMSE of scaled model:  0.06935847086578059\n"
     ]
    }
   ],
   "source": [
    "# Let's print  RMSE\n",
    "print('THe RMSE of original model: ', RMSE_original)\n",
    "print('THe RMSE of scaled model: ', RMSE_scaled)\n",
    "\n",
    "# The output is not as per my expected way, Technically the RMSC_scaled model must be less than RMSE_original model"
   ]
  },
  {
   "cell_type": "markdown",
   "id": "e340ea44",
   "metadata": {},
   "source": [
    "## Multicolinearity\n",
    "#### When we have multiple input variables, we need to check if there is high correlation betwee the input variable. Any input variable which have a high correlation can be used in the model together. We need to drop one of them as the input variable from our model.\n",
    "#### As the correlation coefficient value can not be defined as as how hogh it has to be to classify as a high multicollinearity, thus we need to find varience inflation factor (VIF) for each input variable.\n",
    "\n",
    "\n",
    "## VIF\n",
    "* Use to find out the corelation amongh input variable\n",
    "\n",
    "* If VIF is \n",
    "            * 1      => the input variables are not correlated/ completely independend of input variable\n",
    "            \n",
    "            * 1 to 5 => independent variables are moderately correlated. We can still use in the model.\n",
    "            \n",
    "           *  >5     => independent variables are highly correlated. We canot use those variable together in the model .\n",
    "            \n",
    "         "
   ]
  },
  {
   "cell_type": "markdown",
   "id": "c2edb952",
   "metadata": {},
   "source": [
    "## Find VIF for each variable for above X data frame.\n"
   ]
  },
  {
   "cell_type": "code",
   "execution_count": 15,
   "id": "deebaece",
   "metadata": {
    "scrolled": true
   },
   "outputs": [
    {
     "data": {
      "text/html": [
       "<div>\n",
       "<style scoped>\n",
       "    .dataframe tbody tr th:only-of-type {\n",
       "        vertical-align: middle;\n",
       "    }\n",
       "\n",
       "    .dataframe tbody tr th {\n",
       "        vertical-align: top;\n",
       "    }\n",
       "\n",
       "    .dataframe thead th {\n",
       "        text-align: right;\n",
       "    }\n",
       "</style>\n",
       "<table border=\"1\" class=\"dataframe\">\n",
       "  <thead>\n",
       "    <tr style=\"text-align: right;\">\n",
       "      <th></th>\n",
       "      <th>GRE Score</th>\n",
       "      <th>TOEFL Score</th>\n",
       "      <th>University Rating</th>\n",
       "      <th>SOP</th>\n",
       "      <th>LOR</th>\n",
       "      <th>CGPA</th>\n",
       "      <th>Research</th>\n",
       "    </tr>\n",
       "  </thead>\n",
       "  <tbody>\n",
       "    <tr>\n",
       "      <th>0</th>\n",
       "      <td>337</td>\n",
       "      <td>118</td>\n",
       "      <td>4</td>\n",
       "      <td>4.5</td>\n",
       "      <td>4.5</td>\n",
       "      <td>9.65</td>\n",
       "      <td>1</td>\n",
       "    </tr>\n",
       "    <tr>\n",
       "      <th>1</th>\n",
       "      <td>324</td>\n",
       "      <td>107</td>\n",
       "      <td>4</td>\n",
       "      <td>4.0</td>\n",
       "      <td>4.5</td>\n",
       "      <td>8.87</td>\n",
       "      <td>1</td>\n",
       "    </tr>\n",
       "    <tr>\n",
       "      <th>2</th>\n",
       "      <td>316</td>\n",
       "      <td>104</td>\n",
       "      <td>3</td>\n",
       "      <td>3.0</td>\n",
       "      <td>3.5</td>\n",
       "      <td>8.00</td>\n",
       "      <td>1</td>\n",
       "    </tr>\n",
       "    <tr>\n",
       "      <th>3</th>\n",
       "      <td>322</td>\n",
       "      <td>110</td>\n",
       "      <td>3</td>\n",
       "      <td>3.5</td>\n",
       "      <td>2.5</td>\n",
       "      <td>8.67</td>\n",
       "      <td>1</td>\n",
       "    </tr>\n",
       "    <tr>\n",
       "      <th>4</th>\n",
       "      <td>314</td>\n",
       "      <td>103</td>\n",
       "      <td>2</td>\n",
       "      <td>2.0</td>\n",
       "      <td>3.0</td>\n",
       "      <td>8.21</td>\n",
       "      <td>0</td>\n",
       "    </tr>\n",
       "    <tr>\n",
       "      <th>...</th>\n",
       "      <td>...</td>\n",
       "      <td>...</td>\n",
       "      <td>...</td>\n",
       "      <td>...</td>\n",
       "      <td>...</td>\n",
       "      <td>...</td>\n",
       "      <td>...</td>\n",
       "    </tr>\n",
       "    <tr>\n",
       "      <th>395</th>\n",
       "      <td>324</td>\n",
       "      <td>110</td>\n",
       "      <td>3</td>\n",
       "      <td>3.5</td>\n",
       "      <td>3.5</td>\n",
       "      <td>9.04</td>\n",
       "      <td>1</td>\n",
       "    </tr>\n",
       "    <tr>\n",
       "      <th>396</th>\n",
       "      <td>325</td>\n",
       "      <td>107</td>\n",
       "      <td>3</td>\n",
       "      <td>3.0</td>\n",
       "      <td>3.5</td>\n",
       "      <td>9.11</td>\n",
       "      <td>1</td>\n",
       "    </tr>\n",
       "    <tr>\n",
       "      <th>397</th>\n",
       "      <td>330</td>\n",
       "      <td>116</td>\n",
       "      <td>4</td>\n",
       "      <td>5.0</td>\n",
       "      <td>4.5</td>\n",
       "      <td>9.45</td>\n",
       "      <td>1</td>\n",
       "    </tr>\n",
       "    <tr>\n",
       "      <th>398</th>\n",
       "      <td>312</td>\n",
       "      <td>103</td>\n",
       "      <td>3</td>\n",
       "      <td>3.5</td>\n",
       "      <td>4.0</td>\n",
       "      <td>8.78</td>\n",
       "      <td>0</td>\n",
       "    </tr>\n",
       "    <tr>\n",
       "      <th>399</th>\n",
       "      <td>333</td>\n",
       "      <td>117</td>\n",
       "      <td>4</td>\n",
       "      <td>5.0</td>\n",
       "      <td>4.0</td>\n",
       "      <td>9.66</td>\n",
       "      <td>1</td>\n",
       "    </tr>\n",
       "  </tbody>\n",
       "</table>\n",
       "<p>400 rows × 7 columns</p>\n",
       "</div>"
      ],
      "text/plain": [
       "     GRE Score  TOEFL Score  University Rating  SOP  LOR   CGPA  Research\n",
       "0          337          118                  4  4.5   4.5  9.65         1\n",
       "1          324          107                  4  4.0   4.5  8.87         1\n",
       "2          316          104                  3  3.0   3.5  8.00         1\n",
       "3          322          110                  3  3.5   2.5  8.67         1\n",
       "4          314          103                  2  2.0   3.0  8.21         0\n",
       "..         ...          ...                ...  ...   ...   ...       ...\n",
       "395        324          110                  3  3.5   3.5  9.04         1\n",
       "396        325          107                  3  3.0   3.5  9.11         1\n",
       "397        330          116                  4  5.0   4.5  9.45         1\n",
       "398        312          103                  3  3.5   4.0  8.78         0\n",
       "399        333          117                  4  5.0   4.0  9.66         1\n",
       "\n",
       "[400 rows x 7 columns]"
      ]
     },
     "execution_count": 15,
     "metadata": {},
     "output_type": "execute_result"
    }
   ],
   "source": [
    "X"
   ]
  },
  {
   "cell_type": "code",
   "execution_count": 18,
   "id": "fa184d3b",
   "metadata": {},
   "outputs": [],
   "source": [
    "# import a function\n",
    "from statsmodels.stats.outliers_influence import variance_inflation_factor\n"
   ]
  },
  {
   "cell_type": "code",
   "execution_count": 20,
   "id": "ef3c2814",
   "metadata": {},
   "outputs": [],
   "source": [
    "# creating Used defined function to calculate VIF\n",
    "\n",
    "def VIF_calc(a):\n",
    "    # calculate VIF and I'll display it as the data frame\n",
    "    vif_df = pd.DataFrame()  # blank data frame\n",
    "    vif_df['Variable_Name'] = a.columns\n",
    "    vif_df['VIF_value'] = [variance_inflation_factor(a.values, i) for i in range(a.shape[1])]\n",
    "    return (vif_df)"
   ]
  },
  {
   "cell_type": "code",
   "execution_count": 22,
   "id": "27f1c4a6",
   "metadata": {},
   "outputs": [
    {
     "data": {
      "text/html": [
       "<div>\n",
       "<style scoped>\n",
       "    .dataframe tbody tr th:only-of-type {\n",
       "        vertical-align: middle;\n",
       "    }\n",
       "\n",
       "    .dataframe tbody tr th {\n",
       "        vertical-align: top;\n",
       "    }\n",
       "\n",
       "    .dataframe thead th {\n",
       "        text-align: right;\n",
       "    }\n",
       "</style>\n",
       "<table border=\"1\" class=\"dataframe\">\n",
       "  <thead>\n",
       "    <tr style=\"text-align: right;\">\n",
       "      <th></th>\n",
       "      <th>Variable_Name</th>\n",
       "      <th>VIF_value</th>\n",
       "    </tr>\n",
       "  </thead>\n",
       "  <tbody>\n",
       "    <tr>\n",
       "      <th>0</th>\n",
       "      <td>GRE Score</td>\n",
       "      <td>1438.451789</td>\n",
       "    </tr>\n",
       "    <tr>\n",
       "      <th>1</th>\n",
       "      <td>TOEFL Score</td>\n",
       "      <td>1349.746948</td>\n",
       "    </tr>\n",
       "    <tr>\n",
       "      <th>2</th>\n",
       "      <td>University Rating</td>\n",
       "      <td>22.143705</td>\n",
       "    </tr>\n",
       "    <tr>\n",
       "      <th>3</th>\n",
       "      <td>SOP</td>\n",
       "      <td>38.050177</td>\n",
       "    </tr>\n",
       "    <tr>\n",
       "      <th>4</th>\n",
       "      <td>LOR</td>\n",
       "      <td>38.411722</td>\n",
       "    </tr>\n",
       "    <tr>\n",
       "      <th>5</th>\n",
       "      <td>CGPA</td>\n",
       "      <td>1080.491179</td>\n",
       "    </tr>\n",
       "    <tr>\n",
       "      <th>6</th>\n",
       "      <td>Research</td>\n",
       "      <td>2.859938</td>\n",
       "    </tr>\n",
       "  </tbody>\n",
       "</table>\n",
       "</div>"
      ],
      "text/plain": [
       "       Variable_Name    VIF_value\n",
       "0          GRE Score  1438.451789\n",
       "1        TOEFL Score  1349.746948\n",
       "2  University Rating    22.143705\n",
       "3                SOP    38.050177\n",
       "4               LOR     38.411722\n",
       "5               CGPA  1080.491179\n",
       "6           Research     2.859938"
      ]
     },
     "execution_count": 22,
     "metadata": {},
     "output_type": "execute_result"
    }
   ],
   "source": [
    "# Let's caluculate VIF\n",
    "VIF_calc(X)"
   ]
  },
  {
   "cell_type": "code",
   "execution_count": null,
   "id": "81e71f9c",
   "metadata": {},
   "outputs": [],
   "source": []
  },
  {
   "cell_type": "code",
   "execution_count": null,
   "id": "31d5eb6a",
   "metadata": {},
   "outputs": [],
   "source": []
  },
  {
   "cell_type": "code",
   "execution_count": null,
   "id": "57635787",
   "metadata": {},
   "outputs": [],
   "source": []
  },
  {
   "cell_type": "code",
   "execution_count": null,
   "id": "974c8a0d",
   "metadata": {},
   "outputs": [],
   "source": []
  },
  {
   "cell_type": "code",
   "execution_count": null,
   "id": "02959482",
   "metadata": {},
   "outputs": [],
   "source": []
  },
  {
   "cell_type": "code",
   "execution_count": null,
   "id": "07da7ad2",
   "metadata": {},
   "outputs": [],
   "source": []
  },
  {
   "cell_type": "code",
   "execution_count": null,
   "id": "ae9ba0e8",
   "metadata": {},
   "outputs": [],
   "source": []
  },
  {
   "cell_type": "code",
   "execution_count": null,
   "id": "b8853bba",
   "metadata": {},
   "outputs": [],
   "source": []
  }
 ],
 "metadata": {
  "kernelspec": {
   "display_name": "Python 3 (ipykernel)",
   "language": "python",
   "name": "python3"
  },
  "language_info": {
   "codemirror_mode": {
    "name": "ipython",
    "version": 3
   },
   "file_extension": ".py",
   "mimetype": "text/x-python",
   "name": "python",
   "nbconvert_exporter": "python",
   "pygments_lexer": "ipython3",
   "version": "3.9.7"
  }
 },
 "nbformat": 4,
 "nbformat_minor": 5
}
