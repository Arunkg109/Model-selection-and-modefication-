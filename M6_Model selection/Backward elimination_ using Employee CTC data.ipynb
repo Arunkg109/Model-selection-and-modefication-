{
 "cells": [
  {
   "cell_type": "markdown",
   "id": "66093da1",
   "metadata": {},
   "source": [
    "Agenda\n",
    "\n",
    "* 1) Feature selection using backward elimination and forward elimination method\n",
    "* 2) Multicollimearity in data"
   ]
  },
  {
   "cell_type": "code",
   "execution_count": 2,
   "id": "1a57d864",
   "metadata": {},
   "outputs": [],
   "source": [
    "import pandas as pd\n"
   ]
  },
  {
   "cell_type": "code",
   "execution_count": 3,
   "id": "0917f48f",
   "metadata": {},
   "outputs": [
    {
     "data": {
      "text/html": [
       "<div>\n",
       "<style scoped>\n",
       "    .dataframe tbody tr th:only-of-type {\n",
       "        vertical-align: middle;\n",
       "    }\n",
       "\n",
       "    .dataframe tbody tr th {\n",
       "        vertical-align: top;\n",
       "    }\n",
       "\n",
       "    .dataframe thead th {\n",
       "        text-align: right;\n",
       "    }\n",
       "</style>\n",
       "<table border=\"1\" class=\"dataframe\">\n",
       "  <thead>\n",
       "    <tr style=\"text-align: right;\">\n",
       "      <th></th>\n",
       "      <th>CTCoffered</th>\n",
       "      <th>LastCTC</th>\n",
       "      <th>Interview rating</th>\n",
       "      <th>Skill Set Index</th>\n",
       "      <th>Highest qualification</th>\n",
       "      <th>Total years of work exp</th>\n",
       "    </tr>\n",
       "  </thead>\n",
       "  <tbody>\n",
       "    <tr>\n",
       "      <th>0</th>\n",
       "      <td>19</td>\n",
       "      <td>18</td>\n",
       "      <td>4</td>\n",
       "      <td>3</td>\n",
       "      <td>3</td>\n",
       "      <td>8.5</td>\n",
       "    </tr>\n",
       "    <tr>\n",
       "      <th>1</th>\n",
       "      <td>17</td>\n",
       "      <td>16</td>\n",
       "      <td>4</td>\n",
       "      <td>3</td>\n",
       "      <td>3</td>\n",
       "      <td>7.7</td>\n",
       "    </tr>\n",
       "    <tr>\n",
       "      <th>2</th>\n",
       "      <td>17</td>\n",
       "      <td>16</td>\n",
       "      <td>4</td>\n",
       "      <td>3</td>\n",
       "      <td>3</td>\n",
       "      <td>7.9</td>\n",
       "    </tr>\n",
       "    <tr>\n",
       "      <th>3</th>\n",
       "      <td>9</td>\n",
       "      <td>8</td>\n",
       "      <td>3</td>\n",
       "      <td>1</td>\n",
       "      <td>2</td>\n",
       "      <td>2.7</td>\n",
       "    </tr>\n",
       "    <tr>\n",
       "      <th>4</th>\n",
       "      <td>10</td>\n",
       "      <td>9</td>\n",
       "      <td>5</td>\n",
       "      <td>4</td>\n",
       "      <td>4</td>\n",
       "      <td>9.7</td>\n",
       "    </tr>\n",
       "  </tbody>\n",
       "</table>\n",
       "</div>"
      ],
      "text/plain": [
       "   CTCoffered  LastCTC  Interview rating  Skill Set Index  \\\n",
       "0          19       18                 4                3   \n",
       "1          17       16                 4                3   \n",
       "2          17       16                 4                3   \n",
       "3           9        8                 3                1   \n",
       "4          10        9                 5                4   \n",
       "\n",
       "   Highest qualification  Total years of work exp  \n",
       "0                      3                      8.5  \n",
       "1                      3                      7.7  \n",
       "2                      3                      7.9  \n",
       "3                      2                      2.7  \n",
       "4                      4                      9.7  "
      ]
     },
     "execution_count": 3,
     "metadata": {},
     "output_type": "execute_result"
    }
   ],
   "source": [
    "ctc = pd.read_csv('F:\\Skillenable\\Data frames\\CTCdata.csv')\n",
    "ctc.head()"
   ]
  },
  {
   "cell_type": "markdown",
   "id": "1c07c421",
   "metadata": {},
   "source": [
    "### Build two models\n",
    "*1) Simple linear Regrassion where target variable is CTCOffered and input variable is LastCTC.\n",
    "*2) Build a Multiple regrassion waheretarget variable is CTCoffered and input variable is LastCTC and total Years of experience.\n",
    "\n",
    "\n",
    "* comment on the R-square value of both the models"
   ]
  },
  {
   "cell_type": "markdown",
   "id": "30d6ad25",
   "metadata": {},
   "source": [
    "## SLR"
   ]
  },
  {
   "cell_type": "code",
   "execution_count": 6,
   "id": "e801068d",
   "metadata": {},
   "outputs": [
    {
     "data": {
      "text/plain": [
       "(152, 39, 152, 39)"
      ]
     },
     "execution_count": 6,
     "metadata": {},
     "output_type": "execute_result"
    }
   ],
   "source": [
    "X = ctc[['LastCTC']]\n",
    "Y = ctc[['CTCoffered']]\n",
    "\n",
    "# spliting data into training and test\n",
    "from sklearn.model_selection import train_test_split\n",
    "\n",
    "X_train, X_test, Y_train, Y_test = train_test_split(X,Y, train_size = 0.8, random_state = 1)\n",
    "\n",
    "len(X_train), len(X_test), len(Y_train), len(Y_test) "
   ]
  },
  {
   "cell_type": "code",
   "execution_count": 8,
   "id": "0519df46",
   "metadata": {},
   "outputs": [],
   "source": [
    "#Creating the model using on the training data set\n",
    "\n",
    "## Define our model object\n",
    "\n",
    "from sklearn.linear_model import LinearRegression\n",
    "\n",
    "slr = LinearRegression()\n",
    "\n",
    "### Fit this model object on our training dataset\n",
    "\n",
    "model = slr.fit(X_train, Y_train)\n"
   ]
  },
  {
   "cell_type": "code",
   "execution_count": 13,
   "id": "71365a43",
   "metadata": {},
   "outputs": [
    {
     "name": "stdout",
     "output_type": "stream",
     "text": [
      "[[0.94056464]]\n",
      "[1.76523031]\n",
      "The R-sq value of SLR:  0.9734838\n"
     ]
    }
   ],
   "source": [
    "#Find the values of slope, intercept and R Square\n",
    "\n",
    "## slope is m, Intercept is C, X is LastCTC, Y CTCOffered\n",
    "\n",
    "print(model.coef_) # this will give you the m value\n",
    "print(model.intercept_) # this will give me the Constant/Intercept value\n",
    "\n",
    "# Find the R-sq value of my model . use the command of score\n",
    "\n",
    "r_sq = model.score(X_train,Y_train)\n",
    "print(\"The R-sq value of SLR: \", round(r_sq,7))"
   ]
  },
  {
   "cell_type": "markdown",
   "id": "1c013036",
   "metadata": {},
   "source": [
    "## MLR"
   ]
  },
  {
   "cell_type": "code",
   "execution_count": 31,
   "id": "6b02be65",
   "metadata": {},
   "outputs": [
    {
     "name": "stdout",
     "output_type": "stream",
     "text": [
      "The R-sq value of MLR:  0.9735386\n"
     ]
    }
   ],
   "source": [
    "X2 = ctc[['LastCTC', 'Total years of work exp']]\n",
    "Y2 = ctc[['CTCoffered']]\n",
    "\n",
    "# spliting data into training and test\n",
    "from sklearn.model_selection import train_test_split\n",
    "\n",
    "X_train2, X_test2, Y_train2, Y_test2 = train_test_split(X2,Y2, train_size = 0.8, random_state = 1)\n",
    "\n",
    "len(X_train2), len(X_test2), len(Y_train2), len(Y_test2) \n",
    "\n",
    "## Define our model object\n",
    "\n",
    "from sklearn.linear_model import LinearRegression\n",
    "\n",
    "MLR = LinearRegression()\n",
    "\n",
    "### Fit this model object on our training dataset\n",
    "\n",
    "model2 = MLR.fit(X_train2, Y_train2)\n",
    "\n",
    "r_sq2 = model2.score(X_train2,Y_train2)\n",
    "print(\"The R-sq value of MLR: \", round(r_sq2,7))\n"
   ]
  },
  {
   "cell_type": "code",
   "execution_count": 32,
   "id": "35480586",
   "metadata": {},
   "outputs": [
    {
     "name": "stdout",
     "output_type": "stream",
     "text": [
      "The R-sq value of MLR 3:  0.9805347\n"
     ]
    }
   ],
   "source": [
    "X3 = ctc.drop(columns=['CTCoffered'])\n",
    "Y3 = ctc[['CTCoffered']]\n",
    "\n",
    "# spliting data into training and test\n",
    "from sklearn.model_selection import train_test_split\n",
    "\n",
    "X_train3, X_test3, Y_train3, Y_test3 = train_test_split(X3,Y3, train_size = 0.8, random_state = 1)\n",
    "\n",
    "len(X_train3), len(X_test3), len(Y_train3), len(Y_test3) \n",
    "\n",
    "## Define our model object\n",
    "\n",
    "from sklearn.linear_model import LinearRegression\n",
    " \n",
    "lm3 = LinearRegression()\n",
    "\n",
    "### Fit this model object on our training dataset\n",
    "\n",
    "model3 = MLR.fit(X_train3, Y_train3)\n",
    "\n",
    "r_sq3 = model3.score(X_train3,Y_train3)\n",
    "print(\"The R-sq value of MLR 3: \", round(r_sq3,7))\n"
   ]
  },
  {
   "cell_type": "code",
   "execution_count": 25,
   "id": "66f42761",
   "metadata": {},
   "outputs": [
    {
     "data": {
      "text/plain": [
       "5"
      ]
     },
     "execution_count": 25,
     "metadata": {},
     "output_type": "execute_result"
    }
   ],
   "source": [
    "X_train3.shape[1]"
   ]
  },
  {
   "cell_type": "code",
   "execution_count": null,
   "id": "95b96db4",
   "metadata": {},
   "outputs": [],
   "source": []
  },
  {
   "cell_type": "markdown",
   "id": "18746eb0",
   "metadata": {},
   "source": [
    "### This is the problem wth R sq value that it will always increase when you bring a new input variable in hte model. To vaoid it we use adjusted R sq of a model implace of R- sq.\n",
    "\n",
    "####  Adjusted R sq value will reduce the values if the new input column in your model does not impact the targret variable at all\n",
    "\n",
    "## In python if you are using sklearn library to create regression model, you need to calculate Adjusted R sq values manually using below formula\n",
    "\n",
    "### Adjusted R sq = 1-((1-Rsquare) *(n-1) / (n-k-1))\n",
    "\n",
    "* n = the number of observation\n",
    "* k = the number of input variable\n",
    "\n",
    "### The other way to find the adjusted R sq values is to build the model using statmodel library (OLS model)"
   ]
  },
  {
   "cell_type": "code",
   "execution_count": 27,
   "id": "44513639",
   "metadata": {},
   "outputs": [
    {
     "data": {
      "text/plain": [
       "0.9733070253333334"
      ]
     },
     "execution_count": 27,
     "metadata": {},
     "output_type": "execute_result"
    }
   ],
   "source": [
    "# lets find Adjusted R sq value for \n",
    "# Model 1\n",
    "Adj_R_sq_model1= 1-((1-0.9734838) * (len(Y_train)-1) / (len(Y_train)-1-1))\n",
    "Adj_R_sq_model1"
   ]
  },
  {
   "cell_type": "code",
   "execution_count": 30,
   "id": "37ee297e",
   "metadata": {},
   "outputs": [
    {
     "data": {
      "text/plain": [
       "0.9731834134228188"
      ]
     },
     "execution_count": 30,
     "metadata": {},
     "output_type": "execute_result"
    }
   ],
   "source": [
    "# Adjusted R sq value for model3  (where i have all inputs)\n",
    "Adj_R_sq_model2 = 1-((1-0.9735386) * (len(Y_train2)-1) / (len(Y_train2)-2-1))\n",
    "Adj_R_sq_model2"
   ]
  },
  {
   "cell_type": "code",
   "execution_count": 36,
   "id": "dea35e8b",
   "metadata": {},
   "outputs": [],
   "source": [
    "# Adjusted R sq value for model3  (where i have all inputs)\n",
    "Adj_R_sq_model3 = 1-((1-0.9805347) * (len(Y_train3)-1) / (len(Y_train3)-5-1))"
   ]
  },
  {
   "cell_type": "code",
   "execution_count": 37,
   "id": "2db69fb9",
   "metadata": {},
   "outputs": [
    {
     "name": "stdout",
     "output_type": "stream",
     "text": [
      "The R sq value for SLR:  0.9734838\n",
      "The R-sq value of MLR:  0.9735386\n",
      "The R-sq value of MLR:  0.9805347\n",
      "The adj r sq value for SLR: 0.9733070253333334\n",
      "The adj r sq value for MLR: 0.9731834134228188\n",
      "The adj r sq value for MLR 3: 0.9798680801369862\n"
     ]
    }
   ],
   "source": [
    "# print R sq and Adjusted R sq values\n",
    "print(\"The R sq value for SLR: \", round(r_sq,7))\n",
    "print(\"The R-sq value of MLR: \", round(r_sq2,7))\n",
    "print(\"The R-sq value of MLR: \", round(r_sq3,7))\n",
    "print(\"The adj r sq value for SLR:\", Adj_R_sq_model1)\n",
    "print(\"The adj r sq value for MLR:\", Adj_R_sq_model2)\n",
    "print(\"The adj r sq value for MLR 3:\", Adj_R_sq_model3)"
   ]
  },
  {
   "cell_type": "markdown",
   "id": "23fc48cd",
   "metadata": {},
   "source": [
    "### The method of Backward elimination and forwardselection will help you to find the best possible combination of input variable which will give the best model.\n",
    "\n",
    "### In backward elimination: in this method :\n",
    "\n",
    "* a) The first model build on All input variable\n",
    "* b) The model will give the p-value for all the input variables and you will select the input variable with highest p-value\n",
    "* c) You compare that p-value with 0.05 and if that p-value is greater than 0.05 you go with hypotheses that this column does not impact the target variable and thus you remove that column from your data.\n",
    "* d) I will now build the new model on the remaining input column\n",
    "* e) will repeat step from 'a' to 'd' untill the p-value of input variable is less than 0.05\n",
    "\n",
    "\n",
    "In case if you want to perform the backward elimination method using an inbuild library you can use a mlxtend"
   ]
  },
  {
   "cell_type": "code",
   "execution_count": 40,
   "id": "66608270",
   "metadata": {},
   "outputs": [
    {
     "name": "stdout",
     "output_type": "stream",
     "text": [
      "Collecting mlxtend\n",
      "  Downloading mlxtend-0.19.0-py2.py3-none-any.whl (1.3 MB)\n",
      "Requirement already satisfied: matplotlib>=3.0.0 in c:\\users\\arun\\anaconda3\\lib\\site-packages (from mlxtend) (3.4.3)\n",
      "Requirement already satisfied: numpy>=1.16.2 in c:\\users\\arun\\anaconda3\\lib\\site-packages (from mlxtend) (1.20.3)\n",
      "Requirement already satisfied: pandas>=0.24.2 in c:\\users\\arun\\anaconda3\\lib\\site-packages (from mlxtend) (1.3.4)\n",
      "Requirement already satisfied: scikit-learn>=0.20.3 in c:\\users\\arun\\anaconda3\\lib\\site-packages (from mlxtend) (0.24.2)\n",
      "Requirement already satisfied: joblib>=0.13.2 in c:\\users\\arun\\anaconda3\\lib\\site-packages (from mlxtend) (1.1.0)\n",
      "Requirement already satisfied: scipy>=1.2.1 in c:\\users\\arun\\anaconda3\\lib\\site-packages (from mlxtend) (1.7.1)\n",
      "Requirement already satisfied: setuptools in c:\\users\\arun\\anaconda3\\lib\\site-packages (from mlxtend) (58.0.4)\n",
      "Requirement already satisfied: python-dateutil>=2.7 in c:\\users\\arun\\anaconda3\\lib\\site-packages (from matplotlib>=3.0.0->mlxtend) (2.8.2)\n",
      "Requirement already satisfied: pillow>=6.2.0 in c:\\users\\arun\\anaconda3\\lib\\site-packages (from matplotlib>=3.0.0->mlxtend) (8.4.0)\n",
      "Requirement already satisfied: kiwisolver>=1.0.1 in c:\\users\\arun\\anaconda3\\lib\\site-packages (from matplotlib>=3.0.0->mlxtend) (1.3.1)\n",
      "Requirement already satisfied: cycler>=0.10 in c:\\users\\arun\\anaconda3\\lib\\site-packages (from matplotlib>=3.0.0->mlxtend) (0.10.0)\n",
      "Requirement already satisfied: pyparsing>=2.2.1 in c:\\users\\arun\\anaconda3\\lib\\site-packages (from matplotlib>=3.0.0->mlxtend) (3.0.4)\n",
      "Requirement already satisfied: six in c:\\users\\arun\\anaconda3\\lib\\site-packages (from cycler>=0.10->matplotlib>=3.0.0->mlxtend) (1.16.0)\n",
      "Requirement already satisfied: pytz>=2017.3 in c:\\users\\arun\\anaconda3\\lib\\site-packages (from pandas>=0.24.2->mlxtend) (2021.3)\n",
      "Requirement already satisfied: threadpoolctl>=2.0.0 in c:\\users\\arun\\anaconda3\\lib\\site-packages (from scikit-learn>=0.20.3->mlxtend) (2.2.0)\n",
      "Installing collected packages: mlxtend\n",
      "Successfully installed mlxtend-0.19.0\n"
     ]
    }
   ],
   "source": [
    "#install mlxtend library\n",
    "\n",
    "!pip install mlxtend"
   ]
  },
  {
   "cell_type": "code",
   "execution_count": 45,
   "id": "aade8f33",
   "metadata": {},
   "outputs": [
    {
     "name": "stderr",
     "output_type": "stream",
     "text": [
      "[Parallel(n_jobs=1)]: Using backend SequentialBackend with 1 concurrent workers.\n",
      "[Parallel(n_jobs=1)]: Done   5 out of   5 | elapsed:    0.0s finished\n",
      "Features: 4/3[Parallel(n_jobs=1)]: Using backend SequentialBackend with 1 concurrent workers.\n",
      "[Parallel(n_jobs=1)]: Done   4 out of   4 | elapsed:    0.0s finished\n",
      "Features: 3/3"
     ]
    },
    {
     "data": {
      "text/plain": [
       "['LastCTC', 'Interview rating', 'Total years of work exp']"
      ]
     },
     "execution_count": 45,
     "metadata": {},
     "output_type": "execute_result"
    }
   ],
   "source": [
    "# lets perform backward elimination\n",
    "# Step 1: Find your X and Y\n",
    "\n",
    "X4 = ctc.drop(columns=['CTCoffered'])\n",
    "Y4 = ctc[['CTCoffered']]\n",
    "\n",
    "# Step 2: # spliting data into training and test\n",
    "\n",
    "from sklearn.model_selection import train_test_split\n",
    "\n",
    "X_train4, X_test4, Y_train4, Y_test4 = train_test_split(X4,Y4, train_size = 0.8, random_state = 1)\n",
    "\n",
    "len(X_train4), len(X_test4), len(Y_train4), len(Y_test4)\n",
    "\n",
    "# Step 3: Create the black linear Regration object\n",
    "\n",
    "from sklearn.linear_model import LinearRegression\n",
    " \n",
    "lm4 = LinearRegression()\n",
    "\n",
    "\n",
    "# step 4: Find the set of effective input variable (Feature selection)\n",
    "\n",
    "from mlxtend.feature_selection import SequentialFeatureSelector as sfs\n",
    "\n",
    "   # syntex = sfs(blankLinearRegrassionObject, k_feature = No.Of.top.input.variable, forward = false, varbose = 1)\n",
    "\n",
    "# For demo purpose we are going to find the top 3 most important input columns which can help me to buildmy model\n",
    "# optimal number of input columns we use an algorithm known grid search. We will talk about this during our last session\n",
    "\n",
    "column_name = sfs(lm4, k_features= 3, forward=False, verbose= 1) #k_features= 3; give most impactful columns seques wise\n",
    "\n",
    "# step 6: find  name of these 3 column\n",
    "final_sfs = column_name.fit(X4,Y4)\n",
    "list(final_sfs.k_feature_names_)\n",
    "                # best input columns: ['LastCTC', 'Interview rating', 'Total years of work exp']\n",
    "\n",
    "# Step : Build my model using the columns which are in column name\n",
    "\n",
    "\n",
    "\n",
    "\n",
    "\n",
    "\n",
    "\n",
    "\n"
   ]
  },
  {
   "cell_type": "code",
   "execution_count": null,
   "id": "1f926188",
   "metadata": {},
   "outputs": [],
   "source": []
  },
  {
   "cell_type": "code",
   "execution_count": null,
   "id": "30f156d9",
   "metadata": {},
   "outputs": [],
   "source": []
  },
  {
   "cell_type": "code",
   "execution_count": null,
   "id": "81ec5b0a",
   "metadata": {},
   "outputs": [],
   "source": []
  },
  {
   "cell_type": "code",
   "execution_count": null,
   "id": "78745c8a",
   "metadata": {},
   "outputs": [],
   "source": []
  },
  {
   "cell_type": "code",
   "execution_count": null,
   "id": "53769054",
   "metadata": {},
   "outputs": [],
   "source": []
  }
 ],
 "metadata": {
  "kernelspec": {
   "display_name": "Python 3 (ipykernel)",
   "language": "python",
   "name": "python3"
  },
  "language_info": {
   "codemirror_mode": {
    "name": "ipython",
    "version": 3
   },
   "file_extension": ".py",
   "mimetype": "text/x-python",
   "name": "python",
   "nbconvert_exporter": "python",
   "pygments_lexer": "ipython3",
   "version": "3.9.7"
  }
 },
 "nbformat": 4,
 "nbformat_minor": 5
}
