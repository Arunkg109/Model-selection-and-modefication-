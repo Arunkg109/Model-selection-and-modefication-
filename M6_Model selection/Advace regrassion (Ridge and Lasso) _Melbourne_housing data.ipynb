{
 "cells": [
  {
   "cell_type": "markdown",
   "id": "4bca4983",
   "metadata": {},
   "source": [
    "# Ridge ad Lesso regrassion\n",
    "\n",
    "\n",
    "## Melborn data"
   ]
  },
  {
   "cell_type": "code",
   "execution_count": 20,
   "id": "9ecf0147",
   "metadata": {},
   "outputs": [],
   "source": [
    "import pandas as pd"
   ]
  },
  {
   "cell_type": "code",
   "execution_count": 2,
   "id": "062b2632",
   "metadata": {},
   "outputs": [
    {
     "data": {
      "text/html": [
       "<div>\n",
       "<style scoped>\n",
       "    .dataframe tbody tr th:only-of-type {\n",
       "        vertical-align: middle;\n",
       "    }\n",
       "\n",
       "    .dataframe tbody tr th {\n",
       "        vertical-align: top;\n",
       "    }\n",
       "\n",
       "    .dataframe thead th {\n",
       "        text-align: right;\n",
       "    }\n",
       "</style>\n",
       "<table border=\"1\" class=\"dataframe\">\n",
       "  <thead>\n",
       "    <tr style=\"text-align: right;\">\n",
       "      <th></th>\n",
       "      <th>Suburb</th>\n",
       "      <th>Address</th>\n",
       "      <th>Rooms</th>\n",
       "      <th>Type</th>\n",
       "      <th>Price</th>\n",
       "      <th>Method</th>\n",
       "      <th>SellerG</th>\n",
       "      <th>Date</th>\n",
       "      <th>Distance</th>\n",
       "      <th>Postcode</th>\n",
       "      <th>...</th>\n",
       "      <th>Bathroom</th>\n",
       "      <th>Car</th>\n",
       "      <th>Landsize</th>\n",
       "      <th>BuildingArea</th>\n",
       "      <th>YearBuilt</th>\n",
       "      <th>CouncilArea</th>\n",
       "      <th>Lattitude</th>\n",
       "      <th>Longtitude</th>\n",
       "      <th>Regionname</th>\n",
       "      <th>Propertycount</th>\n",
       "    </tr>\n",
       "  </thead>\n",
       "  <tbody>\n",
       "    <tr>\n",
       "      <th>0</th>\n",
       "      <td>Abbotsford</td>\n",
       "      <td>68 Studley St</td>\n",
       "      <td>2</td>\n",
       "      <td>h</td>\n",
       "      <td>NaN</td>\n",
       "      <td>SS</td>\n",
       "      <td>Jellis</td>\n",
       "      <td>3/09/2016</td>\n",
       "      <td>2.5</td>\n",
       "      <td>3067.0</td>\n",
       "      <td>...</td>\n",
       "      <td>1.0</td>\n",
       "      <td>1.0</td>\n",
       "      <td>126.0</td>\n",
       "      <td>NaN</td>\n",
       "      <td>NaN</td>\n",
       "      <td>Yarra City Council</td>\n",
       "      <td>-37.8014</td>\n",
       "      <td>144.9958</td>\n",
       "      <td>Northern Metropolitan</td>\n",
       "      <td>4019.0</td>\n",
       "    </tr>\n",
       "    <tr>\n",
       "      <th>1</th>\n",
       "      <td>Abbotsford</td>\n",
       "      <td>85 Turner St</td>\n",
       "      <td>2</td>\n",
       "      <td>h</td>\n",
       "      <td>1480000.0</td>\n",
       "      <td>S</td>\n",
       "      <td>Biggin</td>\n",
       "      <td>3/12/2016</td>\n",
       "      <td>2.5</td>\n",
       "      <td>3067.0</td>\n",
       "      <td>...</td>\n",
       "      <td>1.0</td>\n",
       "      <td>1.0</td>\n",
       "      <td>202.0</td>\n",
       "      <td>NaN</td>\n",
       "      <td>NaN</td>\n",
       "      <td>Yarra City Council</td>\n",
       "      <td>-37.7996</td>\n",
       "      <td>144.9984</td>\n",
       "      <td>Northern Metropolitan</td>\n",
       "      <td>4019.0</td>\n",
       "    </tr>\n",
       "    <tr>\n",
       "      <th>2</th>\n",
       "      <td>Abbotsford</td>\n",
       "      <td>25 Bloomburg St</td>\n",
       "      <td>2</td>\n",
       "      <td>h</td>\n",
       "      <td>1035000.0</td>\n",
       "      <td>S</td>\n",
       "      <td>Biggin</td>\n",
       "      <td>4/02/2016</td>\n",
       "      <td>2.5</td>\n",
       "      <td>3067.0</td>\n",
       "      <td>...</td>\n",
       "      <td>1.0</td>\n",
       "      <td>0.0</td>\n",
       "      <td>156.0</td>\n",
       "      <td>79.0</td>\n",
       "      <td>1900.0</td>\n",
       "      <td>Yarra City Council</td>\n",
       "      <td>-37.8079</td>\n",
       "      <td>144.9934</td>\n",
       "      <td>Northern Metropolitan</td>\n",
       "      <td>4019.0</td>\n",
       "    </tr>\n",
       "    <tr>\n",
       "      <th>3</th>\n",
       "      <td>Abbotsford</td>\n",
       "      <td>18/659 Victoria St</td>\n",
       "      <td>3</td>\n",
       "      <td>u</td>\n",
       "      <td>NaN</td>\n",
       "      <td>VB</td>\n",
       "      <td>Rounds</td>\n",
       "      <td>4/02/2016</td>\n",
       "      <td>2.5</td>\n",
       "      <td>3067.0</td>\n",
       "      <td>...</td>\n",
       "      <td>2.0</td>\n",
       "      <td>1.0</td>\n",
       "      <td>0.0</td>\n",
       "      <td>NaN</td>\n",
       "      <td>NaN</td>\n",
       "      <td>Yarra City Council</td>\n",
       "      <td>-37.8114</td>\n",
       "      <td>145.0116</td>\n",
       "      <td>Northern Metropolitan</td>\n",
       "      <td>4019.0</td>\n",
       "    </tr>\n",
       "    <tr>\n",
       "      <th>4</th>\n",
       "      <td>Abbotsford</td>\n",
       "      <td>5 Charles St</td>\n",
       "      <td>3</td>\n",
       "      <td>h</td>\n",
       "      <td>1465000.0</td>\n",
       "      <td>SP</td>\n",
       "      <td>Biggin</td>\n",
       "      <td>4/03/2017</td>\n",
       "      <td>2.5</td>\n",
       "      <td>3067.0</td>\n",
       "      <td>...</td>\n",
       "      <td>2.0</td>\n",
       "      <td>0.0</td>\n",
       "      <td>134.0</td>\n",
       "      <td>150.0</td>\n",
       "      <td>1900.0</td>\n",
       "      <td>Yarra City Council</td>\n",
       "      <td>-37.8093</td>\n",
       "      <td>144.9944</td>\n",
       "      <td>Northern Metropolitan</td>\n",
       "      <td>4019.0</td>\n",
       "    </tr>\n",
       "  </tbody>\n",
       "</table>\n",
       "<p>5 rows × 21 columns</p>\n",
       "</div>"
      ],
      "text/plain": [
       "       Suburb             Address  Rooms Type      Price Method SellerG  \\\n",
       "0  Abbotsford       68 Studley St      2    h        NaN     SS  Jellis   \n",
       "1  Abbotsford        85 Turner St      2    h  1480000.0      S  Biggin   \n",
       "2  Abbotsford     25 Bloomburg St      2    h  1035000.0      S  Biggin   \n",
       "3  Abbotsford  18/659 Victoria St      3    u        NaN     VB  Rounds   \n",
       "4  Abbotsford        5 Charles St      3    h  1465000.0     SP  Biggin   \n",
       "\n",
       "        Date  Distance  Postcode  ...  Bathroom  Car  Landsize  BuildingArea  \\\n",
       "0  3/09/2016       2.5    3067.0  ...       1.0  1.0     126.0           NaN   \n",
       "1  3/12/2016       2.5    3067.0  ...       1.0  1.0     202.0           NaN   \n",
       "2  4/02/2016       2.5    3067.0  ...       1.0  0.0     156.0          79.0   \n",
       "3  4/02/2016       2.5    3067.0  ...       2.0  1.0       0.0           NaN   \n",
       "4  4/03/2017       2.5    3067.0  ...       2.0  0.0     134.0         150.0   \n",
       "\n",
       "   YearBuilt         CouncilArea Lattitude  Longtitude             Regionname  \\\n",
       "0        NaN  Yarra City Council  -37.8014    144.9958  Northern Metropolitan   \n",
       "1        NaN  Yarra City Council  -37.7996    144.9984  Northern Metropolitan   \n",
       "2     1900.0  Yarra City Council  -37.8079    144.9934  Northern Metropolitan   \n",
       "3        NaN  Yarra City Council  -37.8114    145.0116  Northern Metropolitan   \n",
       "4     1900.0  Yarra City Council  -37.8093    144.9944  Northern Metropolitan   \n",
       "\n",
       "  Propertycount  \n",
       "0        4019.0  \n",
       "1        4019.0  \n",
       "2        4019.0  \n",
       "3        4019.0  \n",
       "4        4019.0  \n",
       "\n",
       "[5 rows x 21 columns]"
      ]
     },
     "execution_count": 2,
     "metadata": {},
     "output_type": "execute_result"
    }
   ],
   "source": [
    "house = pd.read_csv('F:\\Skillenable\\Data frames\\Melbourne_housing_FULL.csv')\n",
    "house.head()"
   ]
  },
  {
   "cell_type": "code",
   "execution_count": 3,
   "id": "12a94757",
   "metadata": {},
   "outputs": [
    {
     "data": {
      "text/plain": [
       "0              NaN\n",
       "1        1480000.0\n",
       "2        1035000.0\n",
       "3              NaN\n",
       "4        1465000.0\n",
       "           ...    \n",
       "34852    1480000.0\n",
       "34853     888000.0\n",
       "34854     705000.0\n",
       "34855    1140000.0\n",
       "34856    1020000.0\n",
       "Name: Price, Length: 34857, dtype: float64"
      ]
     },
     "execution_count": 3,
     "metadata": {},
     "output_type": "execute_result"
    }
   ],
   "source": [
    "house['Price']"
   ]
  },
  {
   "cell_type": "code",
   "execution_count": 4,
   "id": "d6a9d8bd",
   "metadata": {},
   "outputs": [
    {
     "data": {
      "text/plain": [
       "(34857, 21)"
      ]
     },
     "execution_count": 4,
     "metadata": {},
     "output_type": "execute_result"
    }
   ],
   "source": [
    "house.shape\n"
   ]
  },
  {
   "cell_type": "code",
   "execution_count": 5,
   "id": "c00c3e19",
   "metadata": {},
   "outputs": [
    {
     "data": {
      "text/plain": [
       "Index(['Suburb', 'Address', 'Rooms', 'Type', 'Price', 'Method', 'SellerG',\n",
       "       'Date', 'Distance', 'Postcode', 'Bedroom2', 'Bathroom', 'Car',\n",
       "       'Landsize', 'BuildingArea', 'YearBuilt', 'CouncilArea', 'Lattitude',\n",
       "       'Longtitude', 'Regionname', 'Propertycount'],\n",
       "      dtype='object')"
      ]
     },
     "execution_count": 5,
     "metadata": {},
     "output_type": "execute_result"
    }
   ],
   "source": [
    "house.columns"
   ]
  },
  {
   "cell_type": "code",
   "execution_count": 6,
   "id": "aba80276",
   "metadata": {},
   "outputs": [
    {
     "name": "stdout",
     "output_type": "stream",
     "text": [
      "<class 'pandas.core.frame.DataFrame'>\n",
      "RangeIndex: 34857 entries, 0 to 34856\n",
      "Data columns (total 21 columns):\n",
      " #   Column         Non-Null Count  Dtype  \n",
      "---  ------         --------------  -----  \n",
      " 0   Suburb         34857 non-null  object \n",
      " 1   Address        34857 non-null  object \n",
      " 2   Rooms          34857 non-null  int64  \n",
      " 3   Type           34857 non-null  object \n",
      " 4   Price          27247 non-null  float64\n",
      " 5   Method         34857 non-null  object \n",
      " 6   SellerG        34857 non-null  object \n",
      " 7   Date           34857 non-null  object \n",
      " 8   Distance       34856 non-null  float64\n",
      " 9   Postcode       34856 non-null  float64\n",
      " 10  Bedroom2       26640 non-null  float64\n",
      " 11  Bathroom       26631 non-null  float64\n",
      " 12  Car            26129 non-null  float64\n",
      " 13  Landsize       23047 non-null  float64\n",
      " 14  BuildingArea   13742 non-null  float64\n",
      " 15  YearBuilt      15551 non-null  float64\n",
      " 16  CouncilArea    34854 non-null  object \n",
      " 17  Lattitude      26881 non-null  float64\n",
      " 18  Longtitude     26881 non-null  float64\n",
      " 19  Regionname     34854 non-null  object \n",
      " 20  Propertycount  34854 non-null  float64\n",
      "dtypes: float64(12), int64(1), object(8)\n",
      "memory usage: 5.6+ MB\n"
     ]
    }
   ],
   "source": [
    "house.info()"
   ]
  },
  {
   "cell_type": "code",
   "execution_count": 7,
   "id": "ac2be008",
   "metadata": {},
   "outputs": [
    {
     "data": {
      "text/plain": [
       "(34857, 15)"
      ]
     },
     "execution_count": 7,
     "metadata": {},
     "output_type": "execute_result"
    }
   ],
   "source": [
    "# drop all unwanted columns\n",
    "house_clean = house.drop(columns=['Lattitude', 'Longtitude', 'Address', 'Date', 'Postcode', 'YearBuilt'])\n",
    "house_clean.shape"
   ]
  },
  {
   "cell_type": "code",
   "execution_count": 8,
   "id": "9321b39f",
   "metadata": {},
   "outputs": [
    {
     "data": {
      "text/plain": [
       "Suburb               0\n",
       "Rooms                0\n",
       "Type                 0\n",
       "Price             7610\n",
       "Method               0\n",
       "SellerG              0\n",
       "Distance             1\n",
       "Bedroom2          8217\n",
       "Bathroom          8226\n",
       "Car               8728\n",
       "Landsize         11810\n",
       "BuildingArea     21115\n",
       "CouncilArea          3\n",
       "Regionname           3\n",
       "Propertycount        3\n",
       "dtype: int64"
      ]
     },
     "execution_count": 8,
     "metadata": {},
     "output_type": "execute_result"
    }
   ],
   "source": [
    "house_clean.isnull().sum()"
   ]
  },
  {
   "cell_type": "code",
   "execution_count": 9,
   "id": "54744267",
   "metadata": {},
   "outputs": [],
   "source": [
    "fill_zero_columns = ['Propertycount', 'Distance', 'Bedroom2', 'Bathroom', 'Car']\n",
    "house_clean[fill_zero_columns] = house_clean[fill_zero_columns].fillna(0)"
   ]
  },
  {
   "cell_type": "code",
   "execution_count": 10,
   "id": "97701a58",
   "metadata": {},
   "outputs": [
    {
     "data": {
      "text/plain": [
       "Suburb               0\n",
       "Rooms                0\n",
       "Type                 0\n",
       "Price             7610\n",
       "Method               0\n",
       "SellerG              0\n",
       "Distance             0\n",
       "Bedroom2             0\n",
       "Bathroom             0\n",
       "Car                  0\n",
       "Landsize         11810\n",
       "BuildingArea     21115\n",
       "CouncilArea          3\n",
       "Regionname           3\n",
       "Propertycount        0\n",
       "dtype: int64"
      ]
     },
     "execution_count": 10,
     "metadata": {},
     "output_type": "execute_result"
    }
   ],
   "source": [
    "house_clean.isnull().sum()"
   ]
  },
  {
   "cell_type": "code",
   "execution_count": 12,
   "id": "bc999c69",
   "metadata": {},
   "outputs": [],
   "source": [
    "# fill missing values for Ladsize and BuildingArea with mean\n",
    "house_clean['Landsize'].fillna(house_clean['Landsize'].mean(), inplace = True)\n",
    "house_clean['BuildingArea'].fillna(house_clean['BuildingArea'].mean(), inplace = True)"
   ]
  },
  {
   "cell_type": "code",
   "execution_count": 13,
   "id": "f8fc75a5",
   "metadata": {},
   "outputs": [
    {
     "data": {
      "text/plain": [
       "Suburb              0\n",
       "Rooms               0\n",
       "Type                0\n",
       "Price            7610\n",
       "Method              0\n",
       "SellerG             0\n",
       "Distance            0\n",
       "Bedroom2            0\n",
       "Bathroom            0\n",
       "Car                 0\n",
       "Landsize            0\n",
       "BuildingArea        0\n",
       "CouncilArea         3\n",
       "Regionname          3\n",
       "Propertycount       0\n",
       "dtype: int64"
      ]
     },
     "execution_count": 13,
     "metadata": {},
     "output_type": "execute_result"
    }
   ],
   "source": [
    "house_clean.isnull().sum()"
   ]
  },
  {
   "cell_type": "code",
   "execution_count": 15,
   "id": "cdca8619",
   "metadata": {},
   "outputs": [
    {
     "data": {
      "text/plain": [
       "Suburb           0\n",
       "Rooms            0\n",
       "Type             0\n",
       "Price            0\n",
       "Method           0\n",
       "SellerG          0\n",
       "Distance         0\n",
       "Bedroom2         0\n",
       "Bathroom         0\n",
       "Car              0\n",
       "Landsize         0\n",
       "BuildingArea     0\n",
       "CouncilArea      0\n",
       "Regionname       0\n",
       "Propertycount    0\n",
       "dtype: int64"
      ]
     },
     "execution_count": 15,
     "metadata": {},
     "output_type": "execute_result"
    }
   ],
   "source": [
    "house_clean.dropna(inplace=True)\n",
    "house_clean.isnull().sum()"
   ]
  },
  {
   "cell_type": "code",
   "execution_count": 17,
   "id": "cad658a8",
   "metadata": {},
   "outputs": [
    {
     "data": {
      "text/plain": [
       "(27244, 15)"
      ]
     },
     "execution_count": 17,
     "metadata": {},
     "output_type": "execute_result"
    }
   ],
   "source": [
    "house_clean.shape"
   ]
  },
  {
   "cell_type": "markdown",
   "id": "0785172c",
   "metadata": {},
   "source": [
    "# Handling catagorical values"
   ]
  },
  {
   "cell_type": "code",
   "execution_count": 18,
   "id": "4e77ce22",
   "metadata": {},
   "outputs": [
    {
     "name": "stdout",
     "output_type": "stream",
     "text": [
      "<class 'pandas.core.frame.DataFrame'>\n",
      "Int64Index: 27244 entries, 1 to 34856\n",
      "Data columns (total 15 columns):\n",
      " #   Column         Non-Null Count  Dtype  \n",
      "---  ------         --------------  -----  \n",
      " 0   Suburb         27244 non-null  object \n",
      " 1   Rooms          27244 non-null  int64  \n",
      " 2   Type           27244 non-null  object \n",
      " 3   Price          27244 non-null  float64\n",
      " 4   Method         27244 non-null  object \n",
      " 5   SellerG        27244 non-null  object \n",
      " 6   Distance       27244 non-null  float64\n",
      " 7   Bedroom2       27244 non-null  float64\n",
      " 8   Bathroom       27244 non-null  float64\n",
      " 9   Car            27244 non-null  float64\n",
      " 10  Landsize       27244 non-null  float64\n",
      " 11  BuildingArea   27244 non-null  float64\n",
      " 12  CouncilArea    27244 non-null  object \n",
      " 13  Regionname     27244 non-null  object \n",
      " 14  Propertycount  27244 non-null  float64\n",
      "dtypes: float64(8), int64(1), object(6)\n",
      "memory usage: 3.3+ MB\n"
     ]
    }
   ],
   "source": [
    "# check for catagorical values\n",
    "house_clean.info()"
   ]
  },
  {
   "cell_type": "code",
   "execution_count": 22,
   "id": "8dfcc0ca",
   "metadata": {},
   "outputs": [],
   "source": [
    "# creating dummies for object variable\n",
    "house_final = pd.get_dummies(house_clean, drop_first=True)"
   ]
  },
  {
   "cell_type": "code",
   "execution_count": 24,
   "id": "5b7bb37e",
   "metadata": {},
   "outputs": [
    {
     "data": {
      "text/plain": [
       "(27244, 745)"
      ]
     },
     "execution_count": 24,
     "metadata": {},
     "output_type": "execute_result"
    }
   ],
   "source": [
    "house_final.shape"
   ]
  },
  {
   "cell_type": "code",
   "execution_count": 25,
   "id": "d5b10899",
   "metadata": {},
   "outputs": [],
   "source": [
    "# Build model\n",
    "\n",
    "Y = house_final[['Price']]\n",
    "X = house_final.drop(columns=['Price'])\n",
    "\n",
    "from sklearn.model_selection import train_test_split\n",
    "\n",
    "X_train, X_test, Y_train, Y_test = train_test_split(X,Y, test_size=0.3, random_state=2)"
   ]
  },
  {
   "cell_type": "code",
   "execution_count": 27,
   "id": "709c968c",
   "metadata": {},
   "outputs": [],
   "source": [
    "from sklearn.linear_model import LinearRegression"
   ]
  },
  {
   "cell_type": "code",
   "execution_count": 28,
   "id": "a845e28b",
   "metadata": {},
   "outputs": [],
   "source": [
    "# build baseline model\n",
    "lin_reg =LinearRegression()\n",
    "\n",
    "normal_reg = lin_reg.fit(X_train, Y_train)"
   ]
  },
  {
   "cell_type": "code",
   "execution_count": 29,
   "id": "1702c88a",
   "metadata": {},
   "outputs": [
    {
     "data": {
      "text/plain": [
       "0.6827792395792723"
      ]
     },
     "execution_count": 29,
     "metadata": {},
     "output_type": "execute_result"
    }
   ],
   "source": [
    "# Training R sq\n",
    "normal_reg.score(X_train, Y_train)"
   ]
  },
  {
   "cell_type": "code",
   "execution_count": 30,
   "id": "49f1869b",
   "metadata": {},
   "outputs": [
    {
     "data": {
      "text/plain": [
       "0.13853683161582553"
      ]
     },
     "execution_count": 30,
     "metadata": {},
     "output_type": "execute_result"
    }
   ],
   "source": [
    "# Test R sq\n",
    "normal_reg.score(X_test, Y_test)"
   ]
  },
  {
   "cell_type": "markdown",
   "id": "d5be2d30",
   "metadata": {},
   "source": [
    "#### here the R sq value for test data is almost half of the R sq value of training data, It is the case of Overfitting"
   ]
  },
  {
   "cell_type": "markdown",
   "id": "7fe5f3d8",
   "metadata": {},
   "source": [
    "# Ridge model"
   ]
  },
  {
   "cell_type": "code",
   "execution_count": 31,
   "id": "306d68d2",
   "metadata": {},
   "outputs": [],
   "source": [
    "from sklearn.linear_model import Ridge"
   ]
  },
  {
   "cell_type": "code",
   "execution_count": 41,
   "id": "02aa305d",
   "metadata": {},
   "outputs": [],
   "source": [
    "ridge_reg = Ridge(alpha = 50)\n",
    "model_ridge = ridge_reg.fit(X_train, Y_train)"
   ]
  },
  {
   "cell_type": "code",
   "execution_count": 33,
   "id": "0b9ec86c",
   "metadata": {},
   "outputs": [
    {
     "data": {
      "text/plain": [
       "0.6622376739684328"
      ]
     },
     "execution_count": 33,
     "metadata": {},
     "output_type": "execute_result"
    }
   ],
   "source": [
    "#Trainig score for ridge\n",
    "model_ridge.score(X_train, Y_train)"
   ]
  },
  {
   "cell_type": "code",
   "execution_count": 34,
   "id": "2a65a6a0",
   "metadata": {},
   "outputs": [
    {
     "data": {
      "text/plain": [
       "0.6670848945194956"
      ]
     },
     "execution_count": 34,
     "metadata": {},
     "output_type": "execute_result"
    }
   ],
   "source": [
    "# Test score for ridge\n",
    "model_ridge.score(X_test, Y_test)"
   ]
  },
  {
   "cell_type": "markdown",
   "id": "aa86ff3f",
   "metadata": {},
   "source": [
    "##### here r sq vaue for test improved by 5x"
   ]
  },
  {
   "cell_type": "markdown",
   "id": "f8609e27",
   "metadata": {},
   "source": [
    "# Lasso Regrassion\n"
   ]
  },
  {
   "cell_type": "code",
   "execution_count": 37,
   "id": "ec6100c2",
   "metadata": {},
   "outputs": [],
   "source": [
    "from sklearn.linear_model import Lasso"
   ]
  },
  {
   "cell_type": "code",
   "execution_count": 38,
   "id": "7de737b1",
   "metadata": {},
   "outputs": [
    {
     "name": "stderr",
     "output_type": "stream",
     "text": [
      "C:\\Users\\arun\\anaconda3\\lib\\site-packages\\sklearn\\linear_model\\_coordinate_descent.py:530: ConvergenceWarning: Objective did not converge. You might want to increase the number of iterations. Duality gap: 708574516589304.1, tolerance: 796258688308.2233\n",
      "  model = cd_fast.enet_coordinate_descent(\n"
     ]
    }
   ],
   "source": [
    "lasso_reg = Lasso(alpha = 50)\n",
    "model_lasso = lasso_reg.fit(X_train, Y_train)"
   ]
  },
  {
   "cell_type": "code",
   "execution_count": 39,
   "id": "d0f372ca",
   "metadata": {},
   "outputs": [
    {
     "data": {
      "text/plain": [
       "0.6767138609484034"
      ]
     },
     "execution_count": 39,
     "metadata": {},
     "output_type": "execute_result"
    }
   ],
   "source": [
    "#Trainig score for lasso\n",
    "model_lasso.score(X_train, Y_train)"
   ]
  },
  {
   "cell_type": "code",
   "execution_count": 40,
   "id": "38988ae1",
   "metadata": {},
   "outputs": [
    {
     "data": {
      "text/plain": [
       "0.6636263035287672"
      ]
     },
     "execution_count": 40,
     "metadata": {},
     "output_type": "execute_result"
    }
   ],
   "source": [
    "#Trainig score for lasso\n",
    "model_lasso.score(X_test, Y_test)"
   ]
  },
  {
   "cell_type": "code",
   "execution_count": 43,
   "id": "1cdeff78",
   "metadata": {},
   "outputs": [
    {
     "data": {
      "text/plain": [
       "array([ 2.71058235e+05, -2.94673000e+04, -8.49047817e+04,  1.23103047e+05,\n",
       "        4.17772756e+04,  2.54573453e+00,  8.62529913e+01,  3.04314884e+00,\n",
       "        2.19913065e+05, -1.19566913e+05, -0.00000000e+00,  3.69776027e+05,\n",
       "        1.54820003e+05,  3.32731745e+05,  1.37959595e+05, -9.28187422e+04,\n",
       "       -1.28891110e+05, -0.00000000e+00,  2.00200662e+04, -8.41674494e+04,\n",
       "       -3.83657357e+04,  0.00000000e+00,  1.27935583e+04, -1.53705869e+05,\n",
       "       -0.00000000e+00, -2.68495446e+05,  0.00000000e+00, -0.00000000e+00,\n",
       "        2.16884843e+05,  4.95292851e+04,  4.30810916e+03, -0.00000000e+00,\n",
       "        0.00000000e+00, -0.00000000e+00,  1.58435790e+05, -2.13054028e+05,\n",
       "        2.51177684e+04, -9.11446264e+04,  7.22830766e+04,  2.21313518e+05,\n",
       "        1.90284416e+05, -6.16676573e+03, -0.00000000e+00,  4.69696818e+04,\n",
       "        0.00000000e+00,  0.00000000e+00,  2.48723360e+05, -1.32181178e+05,\n",
       "       -2.06592421e+03,  4.71033692e+05, -2.25661897e+04,  2.37959678e+04,\n",
       "        0.00000000e+00,  1.93060032e+05,  5.85972293e+04,  7.75292351e+04,\n",
       "        6.04132586e+03,  0.00000000e+00, -1.77714359e+05,  0.00000000e+00,\n",
       "       -1.81171359e+05, -0.00000000e+00, -0.00000000e+00, -2.11443056e+04,\n",
       "       -4.08951995e+03, -0.00000000e+00, -4.48557628e+04,  1.06320250e+05,\n",
       "       -3.90793041e+03,  5.75484757e+05,  1.47190337e+05,  2.97361635e+05,\n",
       "       -2.63674204e+04, -1.31412166e+04,  1.53898546e+05, -1.65817998e+05,\n",
       "       -1.43907241e+05,  0.00000000e+00,  2.51568864e+04,  6.70397895e+03,\n",
       "       -3.33254930e+04,  2.13603910e+05, -3.61743550e+04, -2.53011628e+05,\n",
       "       -0.00000000e+00, -2.35944369e+05,  7.32341536e+04, -1.05564180e+05,\n",
       "        7.64292994e+04,  0.00000000e+00, -5.18443169e+04, -1.57775657e+05,\n",
       "       -0.00000000e+00,  7.01063730e+03,  0.00000000e+00, -5.85693873e+04,\n",
       "       -0.00000000e+00,  0.00000000e+00, -0.00000000e+00, -0.00000000e+00,\n",
       "       -5.05165745e+03,  1.70625680e+03, -0.00000000e+00, -0.00000000e+00,\n",
       "        0.00000000e+00, -1.58859899e+05, -0.00000000e+00, -1.26959894e+05,\n",
       "        0.00000000e+00,  0.00000000e+00, -1.39410404e+04, -0.00000000e+00,\n",
       "       -3.48746062e+04, -2.29946641e+04,  0.00000000e+00, -1.59155697e+05,\n",
       "       -1.03310514e+05,  0.00000000e+00,  3.05814331e+04,  6.06219349e+04,\n",
       "       -2.34049764e+05, -0.00000000e+00,  4.06715950e+05,  3.54707196e+05,\n",
       "        9.60995336e+04,  5.46474935e+04, -5.13790773e+04, -2.21989357e+05,\n",
       "        1.24667752e+05,  0.00000000e+00, -1.22052732e+05, -2.33972438e+04,\n",
       "        1.01114813e+05,  0.00000000e+00, -3.78634448e+02,  0.00000000e+00,\n",
       "        0.00000000e+00,  2.19991387e+05,  4.04111535e+04,  2.62917548e+04,\n",
       "        0.00000000e+00,  1.67535434e+05,  2.99740936e+05, -7.90489459e+04,\n",
       "        0.00000000e+00, -9.03026083e+03,  5.96802498e+04, -2.20632857e+04,\n",
       "        2.39200114e+05, -0.00000000e+00,  0.00000000e+00,  0.00000000e+00,\n",
       "       -0.00000000e+00, -2.30794744e+04, -3.92987816e+04,  2.07523466e+05,\n",
       "       -1.47321880e+05, -1.62284642e+05, -4.71905992e+03,  2.97452566e+04,\n",
       "       -1.79851949e+05,  0.00000000e+00,  2.18094801e+05, -1.77900003e+05,\n",
       "       -0.00000000e+00, -1.69321112e+05, -6.62177432e+04,  0.00000000e+00,\n",
       "       -0.00000000e+00,  0.00000000e+00, -4.29758273e+04, -2.72328518e+05,\n",
       "       -3.94505757e+05, -8.72032012e+04, -4.10195201e+04,  4.34516795e+03,\n",
       "        3.11185657e+04, -4.98160159e+03, -0.00000000e+00,  5.66975397e+04,\n",
       "        4.68980035e+05, -2.95948631e+04,  0.00000000e+00, -9.23175257e+04,\n",
       "        4.24338171e+04, -0.00000000e+00,  1.11759918e+05,  0.00000000e+00,\n",
       "       -0.00000000e+00, -7.69693795e+04, -0.00000000e+00, -9.39721818e+04,\n",
       "       -0.00000000e+00, -0.00000000e+00, -0.00000000e+00, -0.00000000e+00,\n",
       "        7.21473108e+04, -3.37249139e+04, -0.00000000e+00, -0.00000000e+00,\n",
       "       -5.39229133e+04,  0.00000000e+00, -0.00000000e+00, -0.00000000e+00,\n",
       "        0.00000000e+00,  0.00000000e+00,  0.00000000e+00,  1.55279298e+04,\n",
       "       -6.16015338e+04,  3.11138433e+05, -1.62396891e+05, -0.00000000e+00,\n",
       "        1.02393836e+05,  0.00000000e+00,  4.74117248e+04, -0.00000000e+00,\n",
       "        1.07205974e+04, -0.00000000e+00,  1.12261298e+05,  0.00000000e+00,\n",
       "        0.00000000e+00,  6.86827838e+05, -7.75387030e+04,  9.45868506e+04,\n",
       "       -0.00000000e+00,  3.39930983e+04, -6.03006554e+04, -0.00000000e+00,\n",
       "        7.95725185e+04, -1.27783986e+05, -4.91858997e+04,  1.57141594e+05,\n",
       "       -0.00000000e+00,  1.20590540e+05, -0.00000000e+00, -3.73636553e+04,\n",
       "        0.00000000e+00, -2.69051125e+06,  1.89708281e+03,  0.00000000e+00,\n",
       "       -0.00000000e+00, -5.19667930e+03,  0.00000000e+00,  2.60162884e+05,\n",
       "        0.00000000e+00, -0.00000000e+00,  1.97303029e+04,  0.00000000e+00,\n",
       "       -0.00000000e+00, -2.39557062e+05, -0.00000000e+00,  5.15094157e+04,\n",
       "        0.00000000e+00,  2.09961734e+05,  2.94782663e+05, -5.84400294e+04,\n",
       "        0.00000000e+00,  0.00000000e+00,  2.60039668e+04, -9.82721714e+04,\n",
       "        0.00000000e+00, -3.59962006e+05, -3.51945827e+04,  3.32083612e+05,\n",
       "       -0.00000000e+00, -9.22946264e+04, -0.00000000e+00,  0.00000000e+00,\n",
       "        2.97440429e+04,  4.63261735e+04, -1.19797300e+05, -0.00000000e+00,\n",
       "        0.00000000e+00, -1.42528494e+05, -1.02404893e+05, -7.32766687e+04,\n",
       "       -0.00000000e+00,  1.73867894e+05,  0.00000000e+00, -0.00000000e+00,\n",
       "        1.43508749e+04,  0.00000000e+00,  7.25108914e+04,  0.00000000e+00,\n",
       "       -0.00000000e+00, -0.00000000e+00,  5.58612660e+04, -5.75327218e+04,\n",
       "       -1.69964451e+04, -2.84925783e+05,  0.00000000e+00,  0.00000000e+00,\n",
       "        0.00000000e+00,  8.08059287e+04, -1.80526609e+05, -4.64508688e+03,\n",
       "        4.32737996e+04, -1.00544637e+05,  3.51312061e+05,  1.04227830e+05,\n",
       "       -0.00000000e+00, -8.40668776e+04,  6.26791495e+03,  2.99071864e+04,\n",
       "       -0.00000000e+00, -7.28155751e+03, -6.22303634e+03,  0.00000000e+00,\n",
       "        9.27167895e+04, -1.30331902e+05, -0.00000000e+00,  4.13767173e+04,\n",
       "        1.32521843e+05,  1.67330424e+04,  0.00000000e+00,  0.00000000e+00,\n",
       "        1.32404039e+05,  0.00000000e+00,  0.00000000e+00,  0.00000000e+00,\n",
       "       -3.22743266e+05,  0.00000000e+00,  0.00000000e+00, -1.56199063e+05,\n",
       "       -1.21814589e+05,  1.44622249e+05, -0.00000000e+00,  0.00000000e+00,\n",
       "        0.00000000e+00, -9.66547612e+04, -0.00000000e+00, -6.44603060e+04,\n",
       "       -0.00000000e+00, -3.48468422e+04,  1.75261077e+04, -0.00000000e+00,\n",
       "       -7.51794124e+04,  0.00000000e+00,  0.00000000e+00,  0.00000000e+00,\n",
       "        3.58738775e+05,  0.00000000e+00, -6.35183126e+03,  3.52435418e+04,\n",
       "        0.00000000e+00,  2.37307447e+05, -1.40164093e+05,  0.00000000e+00,\n",
       "        5.28346350e+04, -0.00000000e+00,  0.00000000e+00, -2.74263808e+05,\n",
       "       -4.76414029e+05,  6.68043968e+04,  2.27025563e+04,  2.82766149e+04,\n",
       "        1.36098637e+04, -0.00000000e+00,  0.00000000e+00,  6.27386124e+05,\n",
       "        0.00000000e+00,  0.00000000e+00,  0.00000000e+00,  3.91670075e+03,\n",
       "       -0.00000000e+00, -0.00000000e+00, -0.00000000e+00, -0.00000000e+00,\n",
       "        0.00000000e+00,  6.16581314e+03, -0.00000000e+00, -0.00000000e+00,\n",
       "        0.00000000e+00, -0.00000000e+00,  0.00000000e+00, -0.00000000e+00,\n",
       "        0.00000000e+00,  9.98012212e+04,  0.00000000e+00,  0.00000000e+00,\n",
       "       -0.00000000e+00, -0.00000000e+00, -5.67502357e+04, -1.20955744e+03,\n",
       "        0.00000000e+00,  0.00000000e+00, -0.00000000e+00,  0.00000000e+00,\n",
       "        1.57209386e+04,  0.00000000e+00,  0.00000000e+00,  0.00000000e+00,\n",
       "        0.00000000e+00, -0.00000000e+00, -0.00000000e+00, -4.89128824e+04,\n",
       "       -7.46567990e+02,  1.26604807e+04,  0.00000000e+00, -7.12080923e+03,\n",
       "        0.00000000e+00,  3.77628576e+04,  0.00000000e+00, -0.00000000e+00,\n",
       "        2.00433079e+04, -0.00000000e+00,  0.00000000e+00,  0.00000000e+00,\n",
       "       -0.00000000e+00, -0.00000000e+00, -0.00000000e+00,  3.56459681e+05,\n",
       "        0.00000000e+00,  0.00000000e+00,  3.13723203e+04,  3.57425780e+05,\n",
       "        2.89338441e+04, -0.00000000e+00,  8.13088537e+03, -0.00000000e+00,\n",
       "        3.83539128e+04, -0.00000000e+00,  5.48440579e+04, -0.00000000e+00,\n",
       "        0.00000000e+00,  0.00000000e+00,  1.56271468e+05,  0.00000000e+00,\n",
       "        0.00000000e+00,  0.00000000e+00,  0.00000000e+00, -6.65508469e+04,\n",
       "       -0.00000000e+00, -0.00000000e+00, -0.00000000e+00,  0.00000000e+00,\n",
       "       -0.00000000e+00, -0.00000000e+00,  8.19588345e+05,  6.65039063e+04,\n",
       "       -0.00000000e+00,  0.00000000e+00, -7.40795232e+04,  0.00000000e+00,\n",
       "       -2.16826894e+04, -2.70677010e+04, -0.00000000e+00, -2.33509278e+02,\n",
       "        0.00000000e+00,  0.00000000e+00, -0.00000000e+00,  0.00000000e+00,\n",
       "        0.00000000e+00,  0.00000000e+00, -0.00000000e+00,  1.54266309e+03,\n",
       "       -0.00000000e+00, -0.00000000e+00,  0.00000000e+00,  0.00000000e+00,\n",
       "       -0.00000000e+00,  0.00000000e+00, -0.00000000e+00,  0.00000000e+00,\n",
       "       -0.00000000e+00, -0.00000000e+00, -0.00000000e+00, -5.00381505e+04,\n",
       "       -0.00000000e+00, -0.00000000e+00, -0.00000000e+00,  2.53475277e+04,\n",
       "       -0.00000000e+00,  0.00000000e+00, -0.00000000e+00,  1.04655129e+06,\n",
       "       -4.42336489e+04, -0.00000000e+00,  0.00000000e+00, -1.38437841e+05,\n",
       "       -0.00000000e+00, -0.00000000e+00, -2.69857321e+04,  0.00000000e+00,\n",
       "        0.00000000e+00, -0.00000000e+00,  3.92605099e+05,  0.00000000e+00,\n",
       "        0.00000000e+00,  0.00000000e+00,  0.00000000e+00, -0.00000000e+00,\n",
       "       -0.00000000e+00,  0.00000000e+00,  0.00000000e+00,  0.00000000e+00,\n",
       "        4.98833101e+04,  3.69470234e+03,  8.41570667e+04,  0.00000000e+00,\n",
       "        0.00000000e+00, -0.00000000e+00, -0.00000000e+00,  0.00000000e+00,\n",
       "       -0.00000000e+00, -0.00000000e+00, -0.00000000e+00,  4.65395492e+05,\n",
       "       -0.00000000e+00,  0.00000000e+00,  5.13295302e+05, -0.00000000e+00,\n",
       "        0.00000000e+00, -1.48089362e+05, -8.32465007e+03, -0.00000000e+00,\n",
       "        5.16710963e+05, -0.00000000e+00,  0.00000000e+00,  0.00000000e+00,\n",
       "        0.00000000e+00,  0.00000000e+00, -0.00000000e+00, -0.00000000e+00,\n",
       "        1.50814592e+05,  3.60230496e+04,  0.00000000e+00, -0.00000000e+00,\n",
       "       -0.00000000e+00,  0.00000000e+00, -8.18347363e+04,  0.00000000e+00,\n",
       "       -0.00000000e+00, -5.69087902e+04, -0.00000000e+00,  0.00000000e+00,\n",
       "        3.00977062e+05, -1.09330740e+05, -0.00000000e+00,  1.57109276e+05,\n",
       "        7.13533038e+04,  0.00000000e+00,  2.79666820e+04, -0.00000000e+00,\n",
       "        0.00000000e+00,  0.00000000e+00,  0.00000000e+00, -0.00000000e+00,\n",
       "       -0.00000000e+00,  0.00000000e+00,  2.65578089e+04, -0.00000000e+00,\n",
       "        9.23833567e+04, -0.00000000e+00,  0.00000000e+00,  0.00000000e+00,\n",
       "        0.00000000e+00, -1.46555352e+05, -0.00000000e+00, -0.00000000e+00,\n",
       "        0.00000000e+00, -0.00000000e+00,  1.34080967e+04,  0.00000000e+00,\n",
       "        0.00000000e+00,  0.00000000e+00, -0.00000000e+00, -0.00000000e+00,\n",
       "        1.40579835e+05, -3.18576967e+04,  0.00000000e+00, -9.30069120e+03,\n",
       "       -1.61034736e+05,  0.00000000e+00,  0.00000000e+00,  0.00000000e+00,\n",
       "       -0.00000000e+00,  0.00000000e+00, -0.00000000e+00, -0.00000000e+00,\n",
       "       -0.00000000e+00, -0.00000000e+00,  0.00000000e+00, -7.06347510e+04,\n",
       "        0.00000000e+00,  0.00000000e+00,  0.00000000e+00,  0.00000000e+00,\n",
       "        1.17502510e+05,  7.26545742e+04,  2.06089376e+04, -4.29657538e+04,\n",
       "        1.02889505e+04,  0.00000000e+00, -0.00000000e+00,  0.00000000e+00,\n",
       "        0.00000000e+00, -0.00000000e+00, -0.00000000e+00,  0.00000000e+00,\n",
       "        0.00000000e+00, -0.00000000e+00, -6.38679190e+04,  0.00000000e+00,\n",
       "       -0.00000000e+00,  0.00000000e+00, -0.00000000e+00,  2.40106628e+05,\n",
       "       -0.00000000e+00, -4.31299164e+03, -0.00000000e+00, -3.56882829e+04,\n",
       "       -0.00000000e+00,  0.00000000e+00,  5.17061172e+04,  0.00000000e+00,\n",
       "       -0.00000000e+00,  0.00000000e+00, -0.00000000e+00, -0.00000000e+00,\n",
       "        0.00000000e+00,  0.00000000e+00,  2.17774488e+04, -0.00000000e+00,\n",
       "       -0.00000000e+00,  0.00000000e+00, -1.56894672e+05,  0.00000000e+00,\n",
       "        0.00000000e+00,  7.26599941e+04,  0.00000000e+00,  0.00000000e+00,\n",
       "       -0.00000000e+00,  0.00000000e+00, -3.82117144e+04, -2.50622660e+03,\n",
       "        0.00000000e+00,  0.00000000e+00,  0.00000000e+00,  1.28703342e+06,\n",
       "        0.00000000e+00,  0.00000000e+00, -0.00000000e+00, -0.00000000e+00,\n",
       "       -4.42457341e+03,  0.00000000e+00, -2.78509868e+03, -0.00000000e+00,\n",
       "        0.00000000e+00,  0.00000000e+00,  0.00000000e+00, -0.00000000e+00,\n",
       "       -0.00000000e+00, -8.81354536e+04, -0.00000000e+00, -5.74077427e+04,\n",
       "        0.00000000e+00,  0.00000000e+00, -0.00000000e+00,  0.00000000e+00,\n",
       "        0.00000000e+00,  0.00000000e+00, -0.00000000e+00,  0.00000000e+00,\n",
       "        0.00000000e+00,  0.00000000e+00,  0.00000000e+00, -0.00000000e+00,\n",
       "        4.07180393e+04, -0.00000000e+00,  0.00000000e+00,  0.00000000e+00,\n",
       "       -0.00000000e+00,  0.00000000e+00,  0.00000000e+00, -0.00000000e+00,\n",
       "       -1.24083800e+04,  0.00000000e+00, -0.00000000e+00, -0.00000000e+00,\n",
       "        3.23033558e+04,  1.44332358e+04, -9.09757702e+04, -0.00000000e+00,\n",
       "       -0.00000000e+00, -0.00000000e+00, -0.00000000e+00, -1.62300467e+03,\n",
       "       -0.00000000e+00,  1.80771299e+04, -4.68934815e+04,  0.00000000e+00,\n",
       "        0.00000000e+00,  0.00000000e+00,  0.00000000e+00,  0.00000000e+00,\n",
       "        0.00000000e+00,  0.00000000e+00,  0.00000000e+00,  0.00000000e+00,\n",
       "        0.00000000e+00,  0.00000000e+00,  0.00000000e+00,  0.00000000e+00,\n",
       "       -3.74195960e+04,  3.98473100e+05,  3.94971534e+05, -1.75010185e+05,\n",
       "        1.56256838e+05,  3.85427426e+03, -0.00000000e+00,  2.27862616e+05,\n",
       "        2.09111964e+05, -2.07839356e+04,  1.86609543e+04, -2.19001849e+05,\n",
       "        1.91266278e+05, -0.00000000e+00,  2.90050708e+05,  9.00356013e+04,\n",
       "       -0.00000000e+00,  1.31781633e+04,  1.49228318e+05, -1.92180255e+05,\n",
       "        0.00000000e+00,  6.87952304e+04,  1.82968916e+05,  0.00000000e+00,\n",
       "        0.00000000e+00, -3.47375476e+04,  1.19611508e+05,  5.28677148e+05,\n",
       "        3.70992273e+04, -1.13906551e+05, -2.24121866e+05,  1.55941703e+05,\n",
       "       -0.00000000e+00,  4.58012917e+04, -1.77216999e+05,  2.40115742e+04,\n",
       "        0.00000000e+00,  0.00000000e+00, -2.56159423e+05,  0.00000000e+00])"
      ]
     },
     "execution_count": 43,
     "metadata": {},
     "output_type": "execute_result"
    }
   ],
   "source": [
    "model_lasso.coef_"
   ]
  },
  {
   "cell_type": "markdown",
   "id": "7ac235ad",
   "metadata": {},
   "source": [
    "#### Choose the model you want to proceed with, \n",
    "##### Create data frame (data_df)\n",
    "##### predict the model \n",
    "\n",
    "\n",
    "as shown below\n",
    "##### "
   ]
  },
  {
   "cell_type": "code",
   "execution_count": null,
   "id": "ef77e51c",
   "metadata": {},
   "outputs": [],
   "source": [
    "data_df = {'room': 2,\n",
    "           'Car':4\n",
    "          }"
   ]
  },
  {
   "cell_type": "code",
   "execution_count": null,
   "id": "5982e32d",
   "metadata": {},
   "outputs": [],
   "source": [
    "model_lasso.predict(data_df)"
   ]
  }
 ],
 "metadata": {
  "kernelspec": {
   "display_name": "Python 3 (ipykernel)",
   "language": "python",
   "name": "python3"
  },
  "language_info": {
   "codemirror_mode": {
    "name": "ipython",
    "version": 3
   },
   "file_extension": ".py",
   "mimetype": "text/x-python",
   "name": "python",
   "nbconvert_exporter": "python",
   "pygments_lexer": "ipython3",
   "version": "3.9.7"
  }
 },
 "nbformat": 4,
 "nbformat_minor": 5
}
